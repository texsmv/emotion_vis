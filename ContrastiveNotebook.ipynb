{
 "cells": [
  {
   "cell_type": "code",
   "execution_count": 1,
   "id": "515c7a7c-3a03-43e9-a6f4-b35646bbabdf",
   "metadata": {},
   "outputs": [],
   "source": [
    "from models.emotion_dataset_controller import *\n",
    "from contrastive import CPCA\n",
    "import numpy as np"
   ]
  },
  {
   "cell_type": "code",
   "execution_count": 2,
   "id": "88510873-ffa2-49da-a98d-ff06e95923ed",
   "metadata": {},
   "outputs": [
    {
     "data": {
      "text/plain": [
       "True"
      ]
     },
     "execution_count": 2,
     "metadata": {},
     "output_type": "execute_result"
    }
   ],
   "source": [
    "appController = AppController()\n",
    "datasetId = \"emotions_in_music\"\n",
    "appController.loadLocalDataset(datasetId)"
   ]
  },
  {
   "cell_type": "code",
   "execution_count": 3,
   "id": "fb96e9e5-dcdf-4e3e-8d54-32d388b6f6a9",
   "metadata": {},
   "outputs": [],
   "source": [
    "dataset = appController.datasets[datasetId]\n",
    "appController.getProjection(datasetId, 0, dataset.timeLen)\n",
    "representations = appController.mts_representations[datasetId]"
   ]
  },
  {
   "cell_type": "code",
   "execution_count": 4,
   "id": "7363eddd-23d0-4ef4-8005-61e4d0802d76",
   "metadata": {},
   "outputs": [
    {
     "name": "stdout",
     "output_type": "stream",
     "text": [
      "(744, 61, 2)\n",
      "(744, 220)\n",
      "['Blues' 'Classical' 'Country' 'Electronic' 'Folk' 'Jazz' 'Pop' 'Rock']\n"
     ]
    }
   ],
   "source": [
    "assert isinstance(dataset, MTSerieDataset)\n",
    "values = dataset.values()\n",
    "\n",
    "category = dataset.categoricalLabels[0]\n",
    "\n",
    "\n",
    "print(values.shape)\n",
    "print(representations.shape)\n",
    "\n",
    "all_labels = np.array([mts.categoricalFeatures[category] for mts in dataset.get_mtseries()])\n",
    "labels = np.unique(all_labels)\n",
    "print(labels)"
   ]
  },
  {
   "cell_type": "code",
   "execution_count": 53,
   "id": "cc654d12-e121-4b95-adc9-cc5caf920478",
   "metadata": {},
   "outputs": [],
   "source": [
    "genreA = labels[5]\n",
    "groupA = []\n",
    "groupB = []\n",
    "\n",
    "for i in range(len(all_labels)):\n",
    "    if all_labels[i] == genreA:\n",
    "        groupA += [representations[i]]\n",
    "    else:\n",
    "        groupB += [representations[i]]\n",
    "\n",
    "groupA = np.array(groupA)\n",
    "groupB = np.array(groupB)\n"
   ]
  },
  {
   "cell_type": "code",
   "execution_count": 54,
   "id": "b75be238-74c5-4f98-9bab-d720467d4596",
   "metadata": {},
   "outputs": [
    {
     "data": {
      "application/vnd.jupyter.widget-view+json": {
       "model_id": "a7a9bde908d4471d96979da033115389",
       "version_major": 2,
       "version_minor": 0
      },
      "text/plain": [
       "interactive(children=(FloatSlider(value=0.0, continuous_update=False, description='\\\\(\\\\log_{10}{\\\\alpha} \\\\)'…"
      ]
     },
     "metadata": {},
     "output_type": "display_data"
    }
   ],
   "source": [
    "mdl = CPCA()\n",
    "projected_data = mdl.fit_transform(groupA, groupB, gui=True, colors=['r','b','k','c'])"
   ]
  },
  {
   "cell_type": "code",
   "execution_count": 26,
   "id": "e4417ed9-2c40-4014-bfff-ebc416e20422",
   "metadata": {},
   "outputs": [
    {
     "data": {
      "text/plain": [
       "(667, 220)"
      ]
     },
     "execution_count": 26,
     "metadata": {},
     "output_type": "execute_result"
    }
   ],
   "source": [
    "# projected_data[3].shape\n",
    "# groupB.shape"
   ]
  },
  {
   "cell_type": "code",
   "execution_count": 42,
   "id": "b892c979-6145-4c73-97ab-810a0f0c61fd",
   "metadata": {},
   "outputs": [
    {
     "name": "stdout",
     "output_type": "stream",
     "text": [
      "(400, 30)\n",
      "(400, 30)\n",
      "400\n"
     ]
    },
    {
     "data": {
      "application/vnd.jupyter.widget-view+json": {
       "model_id": "95bbf4188523449da5e016e6dc1b4dde",
       "version_major": 2,
       "version_minor": 0
      },
      "text/plain": [
       "interactive(children=(FloatSlider(value=0.0, continuous_update=False, description='\\\\(\\\\log_{10}{\\\\alpha} \\\\)'…"
      ]
     },
     "metadata": {},
     "output_type": "display_data"
    }
   ],
   "source": [
    "N = 400; D = 30; gap=3\n",
    "# In B, all the data pts are from the same distribution, which has different variances in three subspaces.\n",
    "B = np.zeros((N, D))\n",
    "B[:,0:10] = np.random.normal(0,10,(N,10))\n",
    "B[:,10:20] = np.random.normal(0,3,(N,10))\n",
    "B[:,20:30] = np.random.normal(0,1,(N,10))\n",
    "\n",
    "\n",
    "# In A there are four clusters.\n",
    "A = np.zeros((N, D))\n",
    "A[:,0:10] = np.random.normal(0,10,(N,10))\n",
    "# group 1\n",
    "A[0:100, 10:20] = np.random.normal(0,1,(100,10))\n",
    "A[0:100, 20:30] = np.random.normal(0,1,(100,10))\n",
    "# group 2\n",
    "A[100:200, 10:20] = np.random.normal(0,1,(100,10))\n",
    "A[100:200, 20:30] = np.random.normal(gap,1,(100,10))\n",
    "# group 3\n",
    "A[200:300, 10:20] = np.random.normal(2*gap,1,(100,10))\n",
    "A[200:300, 20:30] = np.random.normal(0,1,(100,10))\n",
    "# group 4\n",
    "A[300:400, 10:20] = np.random.normal(2*gap,1,(100,10))\n",
    "A[300:400, 20:30] = np.random.normal(gap,1,(100,10))\n",
    "A_labels = [0]*100+[1]*100+[2]*100+[3]*100\n",
    "\n",
    "cpca = CPCA(standardize=False)\n",
    "print(A.shape)\n",
    "print(B.shape)\n",
    "print(len(A_labels))\n",
    "cpca.fit_transform(A[:200], B, plot=True, active_labels=A_labels[:200], gui=True)"
   ]
  },
  {
   "cell_type": "code",
   "execution_count": null,
   "id": "2897fc08-d33e-4cea-bf09-f6a5c08b85d0",
   "metadata": {},
   "outputs": [],
   "source": []
  },
  {
   "cell_type": "code",
   "execution_count": null,
   "id": "33645585-8fbc-4179-82a3-07aca033f382",
   "metadata": {},
   "outputs": [],
   "source": []
  },
  {
   "cell_type": "code",
   "execution_count": null,
   "id": "6bd343af-9a37-4d9f-84ab-5ee92d6b9226",
   "metadata": {},
   "outputs": [],
   "source": []
  }
 ],
 "metadata": {
  "kernelspec": {
   "display_name": "Python 3",
   "language": "python",
   "name": "python3"
  },
  "language_info": {
   "codemirror_mode": {
    "name": "ipython",
    "version": 3
   },
   "file_extension": ".py",
   "mimetype": "text/x-python",
   "name": "python",
   "nbconvert_exporter": "python",
   "pygments_lexer": "ipython3",
   "version": "3.7.10"
  }
 },
 "nbformat": 4,
 "nbformat_minor": 5
}
