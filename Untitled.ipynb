{
 "cells": [
  {
   "cell_type": "code",
   "execution_count": 1,
   "id": "reduced-density",
   "metadata": {},
   "outputs": [],
   "source": [
    "import json\n"
   ]
  },
  {
   "cell_type": "code",
   "execution_count": 8,
   "id": "ahead-excitement",
   "metadata": {},
   "outputs": [],
   "source": [
    "with open('datasets/WESAD/wesad_info.json', 'r') as file:\n",
    "    data = file.read()\n"
   ]
  },
  {
   "cell_type": "code",
   "execution_count": 11,
   "id": "major-latvia",
   "metadata": {},
   "outputs": [
    {
     "data": {
      "text/plain": [
       "{'id': 'wesad_0',\n",
       " 'name': 'wesad',\n",
       " 'vocabulary': {'emotions': {'Valence': {'min': 0, 'max': 9},\n",
       "   'Arousal': {'min': 0, 'max': 9},\n",
       "   'PANAS-Active': {'min': 0, 'max': 6},\n",
       "   'PANAS-Distressed': {'min': 0, 'max': 6},\n",
       "   'PANAS-Interested': {'min': 0, 'max': 6},\n",
       "   'PANAS-Inspired': {'min': 0, 'max': 6},\n",
       "   'PANAS-Annoyed': {'min': 0, 'max': 6},\n",
       "   'PANAS-Strong': {'min': 0, 'max': 6},\n",
       "   'PANAS-Guilty': {'min': 0, 'max': 6},\n",
       "   'PANAS-Scared': {'min': 0, 'max': 6},\n",
       "   'PANAS-Hostile': {'min': 0, 'max': 6},\n",
       "   'PANAS-Excited': {'min': 0, 'max': 6},\n",
       "   'PANAS-Proud': {'min': 0, 'max': 6},\n",
       "   'PANAS-Irritable': {'min': 0, 'max': 6},\n",
       "   'PANAS-Enthusiastic': {'min': 0, 'max': 6},\n",
       "   'PANAS-Ashamed': {'min': 0, 'max': 6},\n",
       "   'PANAS-Alert': {'min': 0, 'max': 6},\n",
       "   'PANAS-Nervous': {'min': 0, 'max': 6},\n",
       "   'PANAS-Determined': {'min': 0, 'max': 6},\n",
       "   'PANAS-Attentive': {'min': 0, 'max': 6},\n",
       "   'PANAS-Jittery': {'min': 0, 'max': 6},\n",
       "   'PANAS-Afraid': {'min': 0, 'max': 6},\n",
       "   'PANAS-Stressed': {'min': 0, 'max': 6},\n",
       "   'PANAS-Frustrated': {'min': 0, 'max': 6},\n",
       "   'PANAS-Happy': {'min': 0, 'max': 6},\n",
       "   'PANAS-Sad': {'min': 0, 'max': 6},\n",
       "   'STAI-I feel at ease': {'min': 0, 'max': 6},\n",
       "   'STAI-I feel nervous': {'min': 0, 'max': 6},\n",
       "   'STAI-I am jittery': {'min': 0, 'max': 6},\n",
       "   'STAI-I am relaxed': {'min': 0, 'max': 6},\n",
       "   'STAI-I am worried': {'min': 0, 'max': 6},\n",
       "   'STAI-I feel pleasant': {'min': 0, 'max': 6}},\n",
       "  'categorical metadata': {'Dominant hand': ['left', 'right'],\n",
       "   'Gender': ['female', 'male']},\n",
       "  'numericalMetadata': ['Age', 'Height (cm)', 'Weight (kg)'],\n",
       "  'identifiers': ['id']}}"
      ]
     },
     "execution_count": 11,
     "metadata": {},
     "output_type": "execute_result"
    }
   ],
   "source": [
    "dict = json.loads(data)\n",
    "dict"
   ]
  },
  {
   "cell_type": "code",
   "execution_count": 16,
   "id": "resistant-procurement",
   "metadata": {},
   "outputs": [
    {
     "data": {
      "text/plain": [
       "3"
      ]
     },
     "execution_count": 16,
     "metadata": {},
     "output_type": "execute_result"
    }
   ],
   "source": [
    "dict[\"vocabulary\"][\"emotions\"][\"Valence\"][\"min\"] + 3\n"
   ]
  },
  {
   "cell_type": "markdown",
   "id": "metallic-queens",
   "metadata": {},
   "source": [
    "## Downsample"
   ]
  },
  {
   "cell_type": "code",
   "execution_count": null,
   "id": "following-clinton",
   "metadata": {},
   "outputs": [],
   "source": [
    "response = requests.post(url + \"/downsampleData\",data = {'datasetId':dataset, 'rule': 'T'})\n",
    "json.loads(response.content)"
   ]
  }
 ],
 "metadata": {
  "kernelspec": {
   "display_name": "Python 3",
   "language": "python",
   "name": "python3"
  },
  "language_info": {
   "codemirror_mode": {
    "name": "ipython",
    "version": 3
   },
   "file_extension": ".py",
   "mimetype": "text/x-python",
   "name": "python",
   "nbconvert_exporter": "python",
   "pygments_lexer": "ipython3",
   "version": "3.9.2"
  }
 },
 "nbformat": 4,
 "nbformat_minor": 5
}
