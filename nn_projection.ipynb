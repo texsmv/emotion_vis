{
 "cells": [
  {
   "cell_type": "code",
   "execution_count": 1,
   "metadata": {},
   "outputs": [],
   "source": [
    "from mts.core.mtserie_dataset import MTSerieDataset\n",
    "from mts.core.projections import ProjectionAlg\n",
    "from models.emotion_dataset_controller import *\n",
    "import matplotlib.pyplot as plt\n",
    "from mts.core.projections import ProjectionAlg, euclidean_distance_matrix, mds_projection, compute_k_distance_matrixes, compute_distance_matrix\n",
    "import tensorflow as tf\n",
    "\n",
    "\n",
    "config = tf.ConfigProto()\n",
    "config.gpu_options.per_process_gpu_memory_fraction = 0.9\n",
    "config.gpu_options.allow_growth = True\n",
    "tf.keras.backend.set_session(tf.Session(config=config));\n",
    "\n",
    "\n",
    "import sys\n",
    "sys.path.insert(1, '/home/texs/Documents/AirQuality/repositories/peax/experiments')\n"
   ]
  },
  {
   "cell_type": "code",
   "execution_count": 2,
   "metadata": {},
   "outputs": [],
   "source": [
    "controller = AppController()"
   ]
  },
  {
   "cell_type": "code",
   "execution_count": 3,
   "metadata": {},
   "outputs": [
    {
     "data": {
      "text/plain": [
       "True"
      ]
     },
     "execution_count": 3,
     "metadata": {},
     "output_type": "execute_result"
    }
   ],
   "source": [
    "# dataset_id = 'emotions_in_music'\n",
    "dataset_id = 'afew_va'\n",
    "controller.loadLocalDataset(dataset_id)"
   ]
  },
  {
   "cell_type": "code",
   "execution_count": 4,
   "metadata": {},
   "outputs": [
    {
     "name": "stdout",
     "output_type": "stream",
     "text": [
      "(418, 34, 2)\n",
      "0.95\n",
      "0.05\n"
     ]
    }
   ],
   "source": [
    "\n",
    "dataset = controller.datasets[dataset_id]\n",
    "X = dataset.values()\n",
    "\n",
    "print(X.shape)\n",
    "print(X.max())\n",
    "print(X.min())"
   ]
  },
  {
   "cell_type": "code",
   "execution_count": 6,
   "metadata": {},
   "outputs": [],
   "source": [
    "from sklearn.preprocessing import MinMaxScaler\n",
    "\n",
    "def normalizeWindow(data, percentile: float = 99.9):\n",
    "    cutoff = np.percentile(data, (0, percentile))\n",
    "    data_norm = np.copy(data)\n",
    "    data_norm[np.where(data_norm < cutoff[0])] = cutoff[0]\n",
    "    data_norm[np.where(data_norm > cutoff[1])] = cutoff[1]\n",
    "\n",
    "    return MinMaxScaler().fit_transform(data_norm)\n",
    "\n",
    "X = dataset.values()\n",
    "# X = np.array([  normalizeWindow(np.concatenate([x, np.zeros([1, 2])]) )    for x in X])\n",
    "# X = np.array([(np.concatenate([x, np.zeros([1, 2])]) )    for x in X])\n",
    "\n",
    "\n",
    "N, T, D =X.shape\n",
    "# allWindows = np.split(X, 2, axis = 2)\n",
    "# windows1 = allWindows[0]\n",
    "# print(windows1.shape)\n",
    "# print(windows2.shape)"
   ]
  },
  {
   "cell_type": "code",
   "execution_count": 7,
   "metadata": {},
   "outputs": [
    {
     "name": "stdout",
     "output_type": "stream",
     "text": [
      "(250, 34, 2)\n",
      "(83, 34, 2)\n",
      "(85, 34, 2)\n"
     ]
    }
   ],
   "source": [
    "windows = X\n",
    "n = windows.shape[0]\n",
    "train_index = int(n* 0.6)\n",
    "test_index = train_index + int(n* 0.2)\n",
    "train = windows[0: train_index]\n",
    "test = windows[train_index: test_index]\n",
    "val = windows[test_index: ]\n",
    "print(train.shape)\n",
    "print(test.shape)\n",
    "print(val.shape)\n",
    "\n",
    "DATA_FILEPATH = f'savedData/data.npy'\n",
    "with open(DATA_FILEPATH, 'wb') as f:\n",
    "    np.save(f, train)\n",
    "    np.save(f, test)\n",
    "    np.save(f, val)\n"
   ]
  },
  {
   "cell_type": "code",
   "execution_count": 8,
   "metadata": {},
   "outputs": [],
   "source": [
    "settings = {\n",
    "  \"conv_filters\": [\n",
    "    128,\n",
    "    192,\n",
    "    288,\n",
    "    432\n",
    "  ],\n",
    "  \"conv_kernels\": [\n",
    "    3,\n",
    "    5,\n",
    "    7,\n",
    "    9\n",
    "  ],\n",
    "  \"dense_units\": [\n",
    "    1024,\n",
    "    256\n",
    "  ],\n",
    "  \"dropouts\": [\n",
    "    0,\n",
    "    0,\n",
    "    0,\n",
    "    0,\n",
    "    0,\n",
    "    0\n",
    "  ],\n",
    "  \"embedding\": 25,\n",
    "  \"reg_lambda\": 0,\n",
    "  \"optimizer\": \"adadelta\",\n",
    "  \"learning_rate\": 1.0,\n",
    "  \"learning_rate_decay\": 0.001,\n",
    "  \"loss\": \"bce\",\n",
    "  \"metrics\": [],\n",
    "  \"batch_norm\": [\n",
    "    False,\n",
    "    False,\n",
    "    False,\n",
    "    False,\n",
    "    False,\n",
    "    False\n",
    "  ],\n",
    "  \"batch_norm_input\": False,\n",
    "}"
   ]
  },
  {
   "cell_type": "code",
   "execution_count": 9,
   "metadata": {},
   "outputs": [],
   "source": [
    "DATA_FILEPATH = f'savedData/data.npy'\n",
    "with open(DATA_FILEPATH, 'rb') as f:\n",
    "    train_data = np.load(f, allow_pickle=True)\n",
    "    test_data = np.load(f, allow_pickle=True)\n",
    "    val_data = np.load(f, allow_pickle=True)\n"
   ]
  },
  {
   "cell_type": "code",
   "execution_count": 17,
   "metadata": {},
   "outputs": [],
   "source": [
    "from nn_model import create_model\n",
    "\n",
    "def trainEncoder(data_train: np.array, \n",
    "         data_test: np.array, \n",
    "         data_val: np.array,\n",
    "         model_name:str,\n",
    "         window_size: int,\n",
    "         batch_size: int,\n",
    "         n_epochs: int,\n",
    "         settings: dict,\n",
    "):\n",
    "#     _, _, autoencoder = create_model(window_size, **settings)\n",
    "    _, _, autoencoder = create_model(input_dim=T, n_features=D, summary=True)\n",
    "    history = autoencoder.fit(\n",
    "        data_train,\n",
    "        data_train,\n",
    "        epochs=n_epochs,\n",
    "        batch_size=batch_size,\n",
    "        shuffle=True,\n",
    "        validation_data=(data_val, data_val),\n",
    "        # sample_weight=sample_weight_train,\n",
    "        verbose=True,\n",
    "        # callbacks=callbacks,\n",
    "    )\n",
    "    autoencoder.save(model_name)\n",
    "    return history\n",
    "\n"
   ]
  },
  {
   "cell_type": "code",
   "execution_count": 18,
   "metadata": {},
   "outputs": [
    {
     "name": "stdout",
     "output_type": "stream",
     "text": [
      "(250, 34, 2)\n"
     ]
    }
   ],
   "source": [
    "# model.fit(train_data,train_data)\n",
    "print(train_data.shape)"
   ]
  },
  {
   "cell_type": "code",
   "execution_count": 19,
   "metadata": {},
   "outputs": [
    {
     "name": "stdout",
     "output_type": "stream",
     "text": [
      "Model: \"model_7\"\n",
      "_________________________________________________________________\n",
      "Layer (type)                 Output Shape              Param #   \n",
      "=================================================================\n",
      "input (InputLayer)           (None, 34, 2)             0         \n",
      "_________________________________________________________________\n",
      "conv0 (Conv1D)               (None, 17, 120)           2280      \n",
      "_________________________________________________________________\n",
      "flatten (Flatten)            (None, 2040)              0         \n",
      "_________________________________________________________________\n",
      "fc1 (Dense)                  (None, 256)               522496    \n",
      "_________________________________________________________________\n",
      "fc2 (Dense)                  (None, 64)                16448     \n",
      "_________________________________________________________________\n",
      "fc3 (Dense)                  (None, 16)                1040      \n",
      "_________________________________________________________________\n",
      "embed (Dense)                (None, 10)                170       \n",
      "_________________________________________________________________\n",
      "fc4 (Dense)                  (None, 16)                176       \n",
      "_________________________________________________________________\n",
      "fc5 (Dense)                  (None, 64)                1088      \n",
      "_________________________________________________________________\n",
      "fc6 (Dense)                  (None, 256)               16640     \n",
      "_________________________________________________________________\n",
      "blowup (Dense)               (None, 14400)             3700800   \n",
      "_________________________________________________________________\n",
      "unflatten (Reshape)          (None, 120, 120)          0         \n",
      "_________________________________________________________________\n",
      "upsample0 (UpSampling1D)     (None, 240, 120)          0         \n",
      "_________________________________________________________________\n",
      "output (Conv1D)              (None, 240, 2)            2162      \n",
      "=================================================================\n",
      "Total params: 4,263,300\n",
      "Trainable params: 4,263,300\n",
      "Non-trainable params: 0\n",
      "_________________________________________________________________\n",
      "None\n",
      "Model: \"model_8\"\n",
      "_________________________________________________________________\n",
      "Layer (type)                 Output Shape              Param #   \n",
      "=================================================================\n",
      "input (InputLayer)           (None, 34, 2)             0         \n",
      "_________________________________________________________________\n",
      "conv0 (Conv1D)               (None, 17, 120)           2280      \n",
      "_________________________________________________________________\n",
      "flatten (Flatten)            (None, 2040)              0         \n",
      "_________________________________________________________________\n",
      "fc1 (Dense)                  (None, 256)               522496    \n",
      "_________________________________________________________________\n",
      "fc2 (Dense)                  (None, 64)                16448     \n",
      "_________________________________________________________________\n",
      "fc3 (Dense)                  (None, 16)                1040      \n",
      "_________________________________________________________________\n",
      "embed (Dense)                (None, 10)                170       \n",
      "=================================================================\n",
      "Total params: 542,434\n",
      "Trainable params: 542,434\n",
      "Non-trainable params: 0\n",
      "_________________________________________________________________\n",
      "None\n",
      "Model: \"model_9\"\n",
      "_________________________________________________________________\n",
      "Layer (type)                 Output Shape              Param #   \n",
      "=================================================================\n",
      "encoded_input (InputLayer)   (None, 10)                0         \n",
      "_________________________________________________________________\n",
      "fc4 (Dense)                  (None, 16)                176       \n",
      "_________________________________________________________________\n",
      "fc5 (Dense)                  (None, 64)                1088      \n",
      "_________________________________________________________________\n",
      "fc6 (Dense)                  (None, 256)               16640     \n",
      "_________________________________________________________________\n",
      "blowup (Dense)               (None, 14400)             3700800   \n",
      "_________________________________________________________________\n",
      "unflatten (Reshape)          (None, 120, 120)          0         \n",
      "_________________________________________________________________\n",
      "upsample0 (UpSampling1D)     (None, 240, 120)          0         \n",
      "_________________________________________________________________\n",
      "output (Conv1D)              (None, 240, 2)            2162      \n",
      "=================================================================\n",
      "Total params: 3,720,866\n",
      "Trainable params: 3,720,866\n",
      "Non-trainable params: 0\n",
      "_________________________________________________________________\n",
      "None\n"
     ]
    },
    {
     "ename": "ValueError",
     "evalue": "Error when checking target: expected output to have shape (240, 2) but got array with shape (34, 2)",
     "output_type": "error",
     "traceback": [
      "\u001b[0;31m---------------------------------------------------------------------------\u001b[0m",
      "\u001b[0;31mValueError\u001b[0m                                Traceback (most recent call last)",
      "\u001b[0;32m<ipython-input-19-f57d8bc6e276>\u001b[0m in \u001b[0;36m<module>\u001b[0;34m\u001b[0m\n\u001b[1;32m     11\u001b[0m     \u001b[0mbatch_size\u001b[0m \u001b[0;34m=\u001b[0m \u001b[0;36m100\u001b[0m\u001b[0;34m,\u001b[0m\u001b[0;34m\u001b[0m\u001b[0;34m\u001b[0m\u001b[0m\n\u001b[1;32m     12\u001b[0m     \u001b[0mn_epochs\u001b[0m \u001b[0;34m=\u001b[0m \u001b[0;36m120\u001b[0m\u001b[0;34m,\u001b[0m\u001b[0;34m\u001b[0m\u001b[0;34m\u001b[0m\u001b[0m\n\u001b[0;32m---> 13\u001b[0;31m     \u001b[0msettings\u001b[0m \u001b[0;34m=\u001b[0m \u001b[0msettings\u001b[0m\u001b[0;34m,\u001b[0m\u001b[0;34m\u001b[0m\u001b[0;34m\u001b[0m\u001b[0m\n\u001b[0m\u001b[1;32m     14\u001b[0m \u001b[0;34m\u001b[0m\u001b[0m\n\u001b[1;32m     15\u001b[0m )\n",
      "\u001b[0;32m<ipython-input-17-70924b3346d9>\u001b[0m in \u001b[0;36mtrainEncoder\u001b[0;34m(data_train, data_test, data_val, model_name, window_size, batch_size, n_epochs, settings)\u001b[0m\n\u001b[1;32m     20\u001b[0m         \u001b[0mvalidation_data\u001b[0m\u001b[0;34m=\u001b[0m\u001b[0;34m(\u001b[0m\u001b[0mdata_val\u001b[0m\u001b[0;34m,\u001b[0m \u001b[0mdata_val\u001b[0m\u001b[0;34m)\u001b[0m\u001b[0;34m,\u001b[0m\u001b[0;34m\u001b[0m\u001b[0;34m\u001b[0m\u001b[0m\n\u001b[1;32m     21\u001b[0m         \u001b[0;31m# sample_weight=sample_weight_train,\u001b[0m\u001b[0;34m\u001b[0m\u001b[0;34m\u001b[0m\u001b[0;34m\u001b[0m\u001b[0m\n\u001b[0;32m---> 22\u001b[0;31m         \u001b[0mverbose\u001b[0m\u001b[0;34m=\u001b[0m\u001b[0;32mTrue\u001b[0m\u001b[0;34m,\u001b[0m\u001b[0;34m\u001b[0m\u001b[0;34m\u001b[0m\u001b[0m\n\u001b[0m\u001b[1;32m     23\u001b[0m         \u001b[0;31m# callbacks=callbacks,\u001b[0m\u001b[0;34m\u001b[0m\u001b[0;34m\u001b[0m\u001b[0;34m\u001b[0m\u001b[0m\n\u001b[1;32m     24\u001b[0m     )\n",
      "\u001b[0;32m~/anaconda3/envs/peax3/lib/python3.7/site-packages/keras/engine/training.py\u001b[0m in \u001b[0;36mfit\u001b[0;34m(self, x, y, batch_size, epochs, verbose, callbacks, validation_split, validation_data, shuffle, class_weight, sample_weight, initial_epoch, steps_per_epoch, validation_steps, validation_freq, max_queue_size, workers, use_multiprocessing, **kwargs)\u001b[0m\n\u001b[1;32m   1087\u001b[0m             \u001b[0msample_weight\u001b[0m\u001b[0;34m=\u001b[0m\u001b[0msample_weight\u001b[0m\u001b[0;34m,\u001b[0m\u001b[0;34m\u001b[0m\u001b[0;34m\u001b[0m\u001b[0m\n\u001b[1;32m   1088\u001b[0m             \u001b[0mclass_weight\u001b[0m\u001b[0;34m=\u001b[0m\u001b[0mclass_weight\u001b[0m\u001b[0;34m,\u001b[0m\u001b[0;34m\u001b[0m\u001b[0;34m\u001b[0m\u001b[0m\n\u001b[0;32m-> 1089\u001b[0;31m             batch_size=batch_size)\n\u001b[0m\u001b[1;32m   1090\u001b[0m \u001b[0;34m\u001b[0m\u001b[0m\n\u001b[1;32m   1091\u001b[0m         \u001b[0;31m# Prepare validation data.\u001b[0m\u001b[0;34m\u001b[0m\u001b[0;34m\u001b[0m\u001b[0;34m\u001b[0m\u001b[0m\n",
      "\u001b[0;32m~/anaconda3/envs/peax3/lib/python3.7/site-packages/keras/engine/training.py\u001b[0m in \u001b[0;36m_standardize_user_data\u001b[0;34m(self, x, y, sample_weight, class_weight, check_array_lengths, batch_size)\u001b[0m\n\u001b[1;32m    793\u001b[0m                 \u001b[0mfeed_output_shapes\u001b[0m\u001b[0;34m,\u001b[0m\u001b[0;34m\u001b[0m\u001b[0;34m\u001b[0m\u001b[0m\n\u001b[1;32m    794\u001b[0m                 \u001b[0mcheck_batch_axis\u001b[0m\u001b[0;34m=\u001b[0m\u001b[0;32mFalse\u001b[0m\u001b[0;34m,\u001b[0m  \u001b[0;31m# Don't enforce the batch size.\u001b[0m\u001b[0;34m\u001b[0m\u001b[0;34m\u001b[0m\u001b[0m\n\u001b[0;32m--> 795\u001b[0;31m                 exception_prefix='target')\n\u001b[0m\u001b[1;32m    796\u001b[0m \u001b[0;34m\u001b[0m\u001b[0m\n\u001b[1;32m    797\u001b[0m             \u001b[0;31m# Generate sample-wise weight values given the `sample_weight` and\u001b[0m\u001b[0;34m\u001b[0m\u001b[0;34m\u001b[0m\u001b[0;34m\u001b[0m\u001b[0m\n",
      "\u001b[0;32m~/anaconda3/envs/peax3/lib/python3.7/site-packages/keras/engine/training_utils.py\u001b[0m in \u001b[0;36mstandardize_input_data\u001b[0;34m(data, names, shapes, check_batch_axis, exception_prefix)\u001b[0m\n\u001b[1;32m    139\u001b[0m                             \u001b[0;34m': expected '\u001b[0m \u001b[0;34m+\u001b[0m \u001b[0mnames\u001b[0m\u001b[0;34m[\u001b[0m\u001b[0mi\u001b[0m\u001b[0;34m]\u001b[0m \u001b[0;34m+\u001b[0m \u001b[0;34m' to have shape '\u001b[0m \u001b[0;34m+\u001b[0m\u001b[0;34m\u001b[0m\u001b[0;34m\u001b[0m\u001b[0m\n\u001b[1;32m    140\u001b[0m                             \u001b[0mstr\u001b[0m\u001b[0;34m(\u001b[0m\u001b[0mshape\u001b[0m\u001b[0;34m)\u001b[0m \u001b[0;34m+\u001b[0m \u001b[0;34m' but got array with shape '\u001b[0m \u001b[0;34m+\u001b[0m\u001b[0;34m\u001b[0m\u001b[0;34m\u001b[0m\u001b[0m\n\u001b[0;32m--> 141\u001b[0;31m                             str(data_shape))\n\u001b[0m\u001b[1;32m    142\u001b[0m     \u001b[0;32mreturn\u001b[0m \u001b[0mdata\u001b[0m\u001b[0;34m\u001b[0m\u001b[0;34m\u001b[0m\u001b[0m\n\u001b[1;32m    143\u001b[0m \u001b[0;34m\u001b[0m\u001b[0m\n",
      "\u001b[0;31mValueError\u001b[0m: Error when checking target: expected output to have shape (240, 2) but got array with shape (34, 2)"
     ]
    }
   ],
   "source": [
    "# from air_quality import trainEncoder\n",
    "# import importlib\n",
    "# importlib.reload(air_quality)\n",
    "\n",
    "history = trainEncoder(\n",
    "    train_data,\n",
    "    test_data, \n",
    "    val_data, \n",
    "    model_name = 'savedData/test.h5', \n",
    "    window_size = T,\n",
    "    batch_size = 100,\n",
    "    n_epochs = 120,\n",
    "    settings = settings,\n",
    "    \n",
    ")"
   ]
  },
  {
   "cell_type": "code",
   "execution_count": null,
   "metadata": {},
   "outputs": [],
   "source": []
  },
  {
   "cell_type": "code",
   "execution_count": null,
   "metadata": {},
   "outputs": [],
   "source": []
  },
  {
   "cell_type": "code",
   "execution_count": null,
   "metadata": {},
   "outputs": [],
   "source": []
  },
  {
   "cell_type": "code",
   "execution_count": null,
   "metadata": {},
   "outputs": [],
   "source": []
  }
 ],
 "metadata": {
  "kernelspec": {
   "display_name": "Python 3",
   "language": "python",
   "name": "python3"
  },
  "language_info": {
   "codemirror_mode": {
    "name": "ipython",
    "version": 3
   },
   "file_extension": ".py",
   "mimetype": "text/x-python",
   "name": "python",
   "nbconvert_exporter": "python",
   "pygments_lexer": "ipython3",
   "version": "3.8.5"
  }
 },
 "nbformat": 4,
 "nbformat_minor": 5
}
