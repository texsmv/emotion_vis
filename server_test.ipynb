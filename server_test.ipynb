{
 "cells": [
  {
   "cell_type": "code",
   "execution_count": 1,
   "id": "alleged-processor",
   "metadata": {},
   "outputs": [],
   "source": [
    "import json\n",
    "import requests\n",
    "import os\n",
    "\n",
    "# os.environ['NO_PROXY'] = '127.0.0.1'\n",
    "url = \"http://127.0.0.1:5000\""
   ]
  },
  {
   "cell_type": "markdown",
   "id": "neither-underwear",
   "metadata": {},
   "source": [
    "## Get info\n"
   ]
  },
  {
   "cell_type": "code",
   "execution_count": 22,
   "id": "informed-senegal",
   "metadata": {},
   "outputs": [
    {
     "data": {
      "text/plain": [
       "{'loadedDatasetsIds': ['wesad_dimensional'],\n",
       " 'localDatasetsIds': ['case_categorical',\n",
       "  'case_dimensional',\n",
       "  'wesad_dimensional',\n",
       "  'wesad_categorical']}"
      ]
     },
     "execution_count": 22,
     "metadata": {},
     "output_type": "execute_result"
    }
   ],
   "source": [
    "response = requests.post(url + \"/routeGetDatasetsInfo\", {})\n",
    "dataset = 'case_dimensional'\n",
    "# dataset = 'wesad_dimensional'\n",
    "json.loads(response.content)"
   ]
  },
  {
   "cell_type": "markdown",
   "id": "pretty-cookie",
   "metadata": {},
   "source": [
    "## Load local dataset"
   ]
  },
  {
   "cell_type": "code",
   "execution_count": 23,
   "id": "bizarre-preliminary",
   "metadata": {},
   "outputs": [
    {
     "data": {
      "text/plain": [
       "{'state': 'success'}"
      ]
     },
     "execution_count": 23,
     "metadata": {},
     "output_type": "execute_result"
    }
   ],
   "source": [
    "response = requests.post(url + \"/loadLocalDataset\",data = {'datasetId':dataset})\n",
    "json.loads(response.content)"
   ]
  },
  {
   "cell_type": "markdown",
   "id": "rational-netscape",
   "metadata": {},
   "source": [
    "## Remove dataset"
   ]
  },
  {
   "cell_type": "code",
   "execution_count": 17,
   "id": "premier-picking",
   "metadata": {},
   "outputs": [
    {
     "data": {
      "text/plain": [
       "{'state': 'error'}"
      ]
     },
     "execution_count": 17,
     "metadata": {},
     "output_type": "execute_result"
    }
   ],
   "source": [
    "response = requests.post(url + \"/removeDataset\",data = {'datasetId':dataset})\n",
    "json.loads(response.content)"
   ]
  },
  {
   "cell_type": "markdown",
   "id": "southeast-director",
   "metadata": {},
   "source": [
    "## Get Dataset info"
   ]
  },
  {
   "cell_type": "code",
   "execution_count": 37,
   "id": "upset-jesus",
   "metadata": {},
   "outputs": [
    {
     "data": {
      "text/plain": [
       "{'dates': ['2021-02-10T01:55:00.000000000',\n",
       "  '2021-02-10T01:56:00.000000000',\n",
       "  '2021-02-10T01:57:00.000000000',\n",
       "  '2021-02-10T01:58:00.000000000',\n",
       "  '2021-02-10T01:59:00.000000000',\n",
       "  '2021-02-10T02:00:00.000000000',\n",
       "  '2021-02-10T02:01:00.000000000',\n",
       "  '2021-02-10T02:02:00.000000000',\n",
       "  '2021-02-10T02:03:00.000000000',\n",
       "  '2021-02-10T02:04:00.000000000',\n",
       "  '2021-02-10T02:05:00.000000000',\n",
       "  '2021-02-10T02:06:00.000000000',\n",
       "  '2021-02-10T02:07:00.000000000',\n",
       "  '2021-02-10T02:08:00.000000000',\n",
       "  '2021-02-10T02:09:00.000000000',\n",
       "  '2021-02-10T02:10:00.000000000',\n",
       "  '2021-02-10T02:11:00.000000000',\n",
       "  '2021-02-10T02:12:00.000000000',\n",
       "  '2021-02-10T02:13:00.000000000',\n",
       "  '2021-02-10T02:14:00.000000000',\n",
       "  '2021-02-10T02:15:00.000000000',\n",
       "  '2021-02-10T02:16:00.000000000',\n",
       "  '2021-02-10T02:17:00.000000000',\n",
       "  '2021-02-10T02:18:00.000000000',\n",
       "  '2021-02-10T02:19:00.000000000',\n",
       "  '2021-02-10T02:20:00.000000000',\n",
       "  '2021-02-10T02:21:00.000000000',\n",
       "  '2021-02-10T02:22:00.000000000',\n",
       "  '2021-02-10T02:23:00.000000000',\n",
       "  '2021-02-10T02:24:00.000000000',\n",
       "  '2021-02-10T02:25:00.000000000',\n",
       "  '2021-02-10T02:26:00.000000000',\n",
       "  '2021-02-10T02:27:00.000000000',\n",
       "  '2021-02-10T02:28:00.000000000',\n",
       "  '2021-02-10T02:29:00.000000000',\n",
       "  '2021-02-10T02:30:00.000000000',\n",
       "  '2021-02-10T02:31:00.000000000',\n",
       "  '2021-02-10T02:32:00.000000000',\n",
       "  '2021-02-10T02:33:00.000000000',\n",
       "  '2021-02-10T02:34:00.000000000',\n",
       "  '2021-02-10T02:35:00.000000000',\n",
       "  '2021-02-10T02:36:00.000000000'],\n",
       " 'dimensions': {'Arousal': 'arousal', 'Valence': 'valence'},\n",
       " 'downsampleRules': ['T', 'S'],\n",
       " 'globalEmotionMax': {'Arousal': 10.0, 'Valence': 10.0},\n",
       " 'globalEmotionMin': {'Arousal': 0.0, 'Valence': 0.0},\n",
       " 'ids': ['10',\n",
       "  '11',\n",
       "  '12',\n",
       "  '13',\n",
       "  '14',\n",
       "  '15',\n",
       "  '16',\n",
       "  '17',\n",
       "  '18',\n",
       "  '19',\n",
       "  '1',\n",
       "  '20',\n",
       "  '21',\n",
       "  '22',\n",
       "  '23',\n",
       "  '24',\n",
       "  '25',\n",
       "  '26',\n",
       "  '27',\n",
       "  '28',\n",
       "  '29',\n",
       "  '2',\n",
       "  '30',\n",
       "  '3',\n",
       "  '4',\n",
       "  '5',\n",
       "  '6',\n",
       "  '7',\n",
       "  '8',\n",
       "  '9'],\n",
       " 'instanceLen': 30,\n",
       " 'isDated': True,\n",
       " 'seriesLabels': ['Valence', 'Arousal'],\n",
       " 'temporalLen': 42,\n",
       " 'type': 'dimensional',\n",
       " 'variablesLen': 3}"
      ]
     },
     "execution_count": 37,
     "metadata": {},
     "output_type": "execute_result"
    }
   ],
   "source": [
    "response = requests.post(url + \"/getDatasetInfo\",data = {'datasetId':dataset})\n",
    "\n",
    "info = json.loads(response.content)\n",
    "info"
   ]
  },
  {
   "cell_type": "markdown",
   "id": "nearby-russian",
   "metadata": {},
   "source": [
    "## Get Time Series"
   ]
  },
  {
   "cell_type": "code",
   "execution_count": 69,
   "id": "buried-favorite",
   "metadata": {},
   "outputs": [
    {
     "data": {
      "text/plain": [
       "{'1': {'categoricalFeatures': [],\n",
       "  'categoricalLabels': [],\n",
       "  'index': ['2021-02-10 01:55:19',\n",
       "   '2021-02-10 01:55:19.050000',\n",
       "   '2021-02-10 01:55:19.100000',\n",
       "   '2021-02-10 01:55:19.150000'],\n",
       "  'metadata': {'id': '1'},\n",
       "  'numericalFeatures': [],\n",
       "  'numericalLabels': [],\n",
       "  'temporalVariables': {'Arousal': [5.0, 5.0, 5.0, 5.0],\n",
       "   'Valence': [5.0, 5.0, 5.0, 5.0],\n",
       "   'Video': [10.0, 10.0, 10.0, 10.0]}},\n",
       " '2': {'categoricalFeatures': [],\n",
       "  'categoricalLabels': [],\n",
       "  'index': ['2021-02-10 01:55:19',\n",
       "   '2021-02-10 01:55:19.050000',\n",
       "   '2021-02-10 01:55:19.100000',\n",
       "   '2021-02-10 01:55:19.150000'],\n",
       "  'metadata': {'id': '2'},\n",
       "  'numericalFeatures': [],\n",
       "  'numericalLabels': [],\n",
       "  'temporalVariables': {'Arousal': [5.0, 5.0, 5.0, 5.0],\n",
       "   'Valence': [5.0, 5.0, 5.0, 5.0],\n",
       "   'Video': [10.0, 10.0, 10.0, 10.0]}},\n",
       " '5': {'categoricalFeatures': [],\n",
       "  'categoricalLabels': [],\n",
       "  'index': ['2021-02-10 01:55:19',\n",
       "   '2021-02-10 01:55:19.050000',\n",
       "   '2021-02-10 01:55:19.100000',\n",
       "   '2021-02-10 01:55:19.150000'],\n",
       "  'metadata': {'id': '5'},\n",
       "  'numericalFeatures': [],\n",
       "  'numericalLabels': [],\n",
       "  'temporalVariables': {'Arousal': [5.0, 5.0, 5.0, 5.0],\n",
       "   'Valence': [5.0, 5.0, 5.0, 5.0],\n",
       "   'Video': [10.0, 10.0, 10.0, 10.0]}}}"
      ]
     },
     "execution_count": 69,
     "metadata": {},
     "output_type": "execute_result"
    }
   ],
   "source": [
    "response = requests.post(url + \"/getMTSeries\",data = {'datasetId':dataset, 'begin': 0, 'end': 4, 'ids': json.dumps(['1', '2', '5'])})\n",
    "json.loads(response.content)"
   ]
  },
  {
   "cell_type": "markdown",
   "id": "hindu-information",
   "metadata": {},
   "source": [
    "## Get projection\n"
   ]
  },
  {
   "cell_type": "code",
   "execution_count": 49,
   "id": "concerned-miniature",
   "metadata": {},
   "outputs": [],
   "source": [
    "alphas = {label: 1 for label in info[\"seriesLabels\"]}\n",
    "D_k = {}\n",
    "coords = {}"
   ]
  },
  {
   "cell_type": "code",
   "execution_count": 50,
   "id": "blessed-ballot",
   "metadata": {},
   "outputs": [
    {
     "data": {
      "text/plain": [
       "{'1': [10.331422178159485, -7.822703821703016],\n",
       " '2': [9.149584635408338, 1.78141223125199],\n",
       " '3': [-10.179948481847532, -1.4284377541435411],\n",
       " '4': [-3.7285033656149005, -10.076584413672705],\n",
       " '5': [-7.418150277018119, 9.925811489772995],\n",
       " '6': [1.845595310912727, 7.620502268494276]}"
      ]
     },
     "execution_count": 50,
     "metadata": {},
     "output_type": "execute_result"
    }
   ],
   "source": [
    "\n",
    "response = requests.post(url + \"/getDatasetProjection\",data = {'datasetId':dataset, 'alphas': json.dumps(alphas), 'begin': 0, 'end':40, \n",
    "                                                               'D_k': json.dumps(D_k), 'oldCoords': json.dumps(coords)})\n",
    "data = json.loads(response.content)\n",
    "coords = data[\"coords\"]\n",
    "D_k = data[\"D_k\"]\n",
    "coords"
   ]
  },
  {
   "cell_type": "markdown",
   "id": "biological-diesel",
   "metadata": {},
   "source": [
    "## Clustering"
   ]
  },
  {
   "cell_type": "code",
   "execution_count": 38,
   "id": "given-agent",
   "metadata": {},
   "outputs": [
    {
     "data": {
      "text/plain": [
       "{'0': ['1', '2', '4', '5'], '1': ['3', '6']}"
      ]
     },
     "execution_count": 38,
     "metadata": {},
     "output_type": "execute_result"
    }
   ],
   "source": [
    "response = requests.post(url + \"/doClustering\",data = {'datasetId':dataset, 'coords': json.dumps(coords), 'k': 2})\n",
    "clusters = json.loads(response.content)\n",
    "clusters"
   ]
  },
  {
   "cell_type": "markdown",
   "id": "compliant-dialogue",
   "metadata": {},
   "source": [
    "## Rankings"
   ]
  },
  {
   "cell_type": "code",
   "execution_count": 39,
   "id": "significant-phenomenon",
   "metadata": {},
   "outputs": [
    {
     "data": {
      "text/plain": [
       "{'Arousal': 0.051812307045928346, 'Valence': 3.415525686489257}"
      ]
     },
     "execution_count": 39,
     "metadata": {},
     "output_type": "execute_result"
    }
   ],
   "source": [
    "response = requests.post(url + \"/getFishersDiscriminantRanking\",data = {'datasetId':dataset, 'D_k': json.dumps(D_k), 'blueCluster': json.dumps(clusters['0']), 'redCluster': json.dumps(clusters['1']) })\n",
    "j_s = json.loads(response.content)\n",
    "j_s"
   ]
  },
  {
   "cell_type": "markdown",
   "id": "educational-nowhere",
   "metadata": {},
   "source": [
    "## Temporal summary"
   ]
  },
  {
   "cell_type": "code",
   "execution_count": 32,
   "id": "natural-construction",
   "metadata": {},
   "outputs": [],
   "source": [
    "response = requests.post(url + \"/getTemporalSummary\",data = {'datasetId':dataset})\n",
    "# json.loads(response.content)[\"mean\"]\n"
   ]
  },
  {
   "cell_type": "markdown",
   "id": "liquid-contribution",
   "metadata": {},
   "source": [
    "## Downsample"
   ]
  },
  {
   "cell_type": "code",
   "execution_count": 36,
   "id": "spare-substitute",
   "metadata": {},
   "outputs": [
    {
     "data": {
      "text/plain": [
       "{'state': 'success'}"
      ]
     },
     "execution_count": 36,
     "metadata": {},
     "output_type": "execute_result"
    }
   ],
   "source": [
    "response = requests.post(url + \"/downsampleData\",data = {'datasetId':dataset, 'rule': 'T'})\n",
    "json.loads(response.content)"
   ]
  },
  {
   "cell_type": "markdown",
   "id": "civic-fusion",
   "metadata": {},
   "source": [
    "## Reset dataset"
   ]
  },
  {
   "cell_type": "code",
   "execution_count": 68,
   "id": "republican-royal",
   "metadata": {},
   "outputs": [
    {
     "data": {
      "text/plain": [
       "{'state': 'success'}"
      ]
     },
     "execution_count": 68,
     "metadata": {},
     "output_type": "execute_result"
    }
   ],
   "source": [
    "response = requests.post(url + \"/resetDataset\",data = {'datasetId':dataset})\n",
    "json.loads(response.content)"
   ]
  },
  {
   "cell_type": "code",
   "execution_count": null,
   "id": "diagnostic-bradford",
   "metadata": {},
   "outputs": [],
   "source": []
  }
 ],
 "metadata": {
  "kernelspec": {
   "display_name": "Python 3",
   "language": "python",
   "name": "python3"
  },
  "language_info": {
   "codemirror_mode": {
    "name": "ipython",
    "version": 3
   },
   "file_extension": ".py",
   "mimetype": "text/x-python",
   "name": "python",
   "nbconvert_exporter": "python",
   "pygments_lexer": "ipython3",
   "version": "3.9.2"
  }
 },
 "nbformat": 4,
 "nbformat_minor": 5
}
