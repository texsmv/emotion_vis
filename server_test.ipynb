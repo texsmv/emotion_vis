{
 "cells": [
  {
   "cell_type": "code",
   "execution_count": 1,
   "metadata": {},
   "outputs": [],
   "source": [
    "import json\n",
    "import requests\n",
    "import os\n",
    "\n",
    "# os.environ['NO_PROXY'] = '127.0.0.1'\n",
    "url = \"http://127.0.0.1:5000\""
   ]
  },
  {
   "cell_type": "markdown",
   "metadata": {},
   "source": [
    "## Get info\n"
   ]
  },
  {
   "cell_type": "code",
   "execution_count": 2,
   "metadata": {},
   "outputs": [
    {
     "data": {
      "text/plain": [
       "{'loadedDatasetsIds': [],\n",
       " 'localDatasetsIds': ['ascertain',\n",
       "  'drivers_workload',\n",
       "  'drivers_stress',\n",
       "  'wesad_dimensional_2',\n",
       "  'wesad_dimensional_3',\n",
       "  'wesad_categorical_panas',\n",
       "  'wesad_categorical_stai',\n",
       "  'case_dimensional',\n",
       "  'case_categorical']}"
      ]
     },
     "execution_count": 2,
     "metadata": {},
     "output_type": "execute_result"
    }
   ],
   "source": [
    "response = requests.post(url + \"/routeGetDatasetsInfo\", {})\n",
    "dataset = 'ascertain'\n",
    "# dataset = 'wesad_dimensional'\n",
    "json.loads(response.content)"
   ]
  },
  {
   "cell_type": "markdown",
   "metadata": {},
   "source": [
    "## Load local dataset"
   ]
  },
  {
   "cell_type": "code",
   "execution_count": 5,
   "metadata": {},
   "outputs": [
    {
     "data": {
      "text/plain": [
       "{'state': 'success'}"
      ]
     },
     "execution_count": 5,
     "metadata": {},
     "output_type": "execute_result"
    }
   ],
   "source": [
    "response = requests.post(url + \"/loadLocalDataset\",data = {'datasetId':dataset})\n",
    "json.loads(response.content)"
   ]
  },
  {
   "cell_type": "markdown",
   "metadata": {},
   "source": [
    "## Remove dataset"
   ]
  },
  {
   "cell_type": "code",
   "execution_count": 17,
   "metadata": {},
   "outputs": [
    {
     "data": {
      "text/plain": [
       "{'state': 'error'}"
      ]
     },
     "execution_count": 17,
     "metadata": {},
     "output_type": "execute_result"
    }
   ],
   "source": [
    "response = requests.post(url + \"/removeDataset\",data = {'datasetId':dataset})\n",
    "json.loads(response.content)"
   ]
  },
  {
   "cell_type": "markdown",
   "metadata": {},
   "source": [
    "## Get Dataset info"
   ]
  },
  {
   "cell_type": "code",
   "execution_count": 6,
   "metadata": {},
   "outputs": [],
   "source": [
    "response = requests.post(url + \"/getDatasetInfo\",data = {'datasetId':dataset})\n",
    "\n",
    "info = json.loads(response.content)\n",
    "# info"
   ]
  },
  {
   "cell_type": "markdown",
   "metadata": {},
   "source": [
    "## Get Time Series"
   ]
  },
  {
   "cell_type": "code",
   "execution_count": 8,
   "metadata": {},
   "outputs": [],
   "source": [
    "# response = requests.post(url + \"/getMTSeries\",data = {'datasetId':dataset, 'begin': 0, 'end': 5, 'ids': json.dumps(['s4', 's2', 's5'])})\n",
    "# json.loads(response.content)"
   ]
  },
  {
   "cell_type": "markdown",
   "metadata": {},
   "source": [
    "## Get projection\n"
   ]
  },
  {
   "cell_type": "code",
   "execution_count": 7,
   "metadata": {},
   "outputs": [],
   "source": [
    "alphas = {label: 1 for label in info[\"seriesLabels\"]}\n",
    "D_k = {}\n",
    "coords = {}"
   ]
  },
  {
   "cell_type": "code",
   "execution_count": 8,
   "metadata": {},
   "outputs": [
    {
     "data": {
      "text/plain": [
       "{'student_1': [0.29183794935083807, 0.2891666672017579],\n",
       " 'student_10': [0.44094145225028303, -0.1431100804541683],\n",
       " 'student_11': [0.5387725993081056, -0.3320517899762869],\n",
       " 'student_12': [-0.059559463317466865, 0.1499136175566409],\n",
       " 'student_13': [0.018488249451370953, -0.3162320602658205],\n",
       " 'student_14': [0.4781004841290888, -0.9241876406353373],\n",
       " 'student_15': [0.7998528392258644, -0.810130870458494],\n",
       " 'student_16': [-0.6645859111350547, -0.29202196720490414],\n",
       " 'student_17': [0.2715940590753496, -0.14473442997058494],\n",
       " 'student_18': [-0.5015662653696913, -0.16375435269913896],\n",
       " 'student_19': [-0.16250732272268942, -0.24414658415988866],\n",
       " 'student_2': [0.059734488295522636, -0.7327398316089485],\n",
       " 'student_20': [-0.2212602263949346, -0.8535638998386379],\n",
       " 'student_21': [0.2106947441846827, 0.49790859615406435],\n",
       " 'student_22': [-0.6181031296198434, 0.017058887994127137],\n",
       " 'student_23': [-0.19045829167648565, -0.039825886148437295],\n",
       " 'student_24': [-0.6003375141076788, 0.6366958890657544],\n",
       " 'student_25': [0.1316223418543392, -0.023970686581903933],\n",
       " 'student_26': [-0.38613762844596045, 0.4094709211123646],\n",
       " 'student_27': [-0.08733704600992143, 0.7816157013728942],\n",
       " 'student_28': [0.12300543427892507, -0.5013816054062188],\n",
       " 'student_29': [0.875398723186849, -0.3989657971863194],\n",
       " 'student_3': [0.0502756615813742, -0.1697990235014183],\n",
       " 'student_30': [0.042785963691709616, 0.34288128617082547],\n",
       " 'student_31': [-0.3541574497212282, -0.6255273591046084],\n",
       " 'student_32': [0.5821543134448506, 0.16008463055486177],\n",
       " 'student_33': [-0.24405631427916474, 0.6060836976769124],\n",
       " 'student_34': [0.13753588856490895, 0.17900093287794938],\n",
       " 'student_35': [-0.7870093668779848, 0.6008356304797349],\n",
       " 'student_36': [-0.5774096065132154, -0.5090629997082683],\n",
       " 'student_37': [-0.8753986696777317, -0.1327600660816194],\n",
       " 'student_38': [0.642044499894159, -0.17861582776142892],\n",
       " 'student_39': [0.654342446792139, -0.5774818973305585],\n",
       " 'student_4': [-0.24140161995641796, -0.4633054807676461],\n",
       " 'student_40': [0.854220884779674, -0.06242479293576919],\n",
       " 'student_41': [0.20582433095945474, 0.6864627391402711],\n",
       " 'student_42': [0.1730387597571199, 0.9999998929817655],\n",
       " 'student_43': [-0.0610993453480565, -0.5171371509305984],\n",
       " 'student_44': [-0.6122259022225761, -0.8695738812153248],\n",
       " 'student_45': [-0.2600868699114167, 0.17997716658950647],\n",
       " 'student_46': [-0.6426577143773219, 0.3216284547358885],\n",
       " 'student_47': [-0.03199381017234004, -0.013410822828958557],\n",
       " 'student_48': [-0.02990133614406021, 0.5453947806350932],\n",
       " 'student_49': [0.14993253302957266, -1.0],\n",
       " 'student_5': [-0.47275005399069925, 0.8847768380863341],\n",
       " 'student_50': [-0.36256287588817104, -0.21364193271934828],\n",
       " 'student_51': [-0.43782312818151836, -0.3507579887506713],\n",
       " 'student_52': [0.45124864595178904, 0.5736580823060118],\n",
       " 'student_53': [-0.8577238056283458, 0.22425843587285454],\n",
       " 'student_54': [0.3404277058650915, -0.7184923335347417],\n",
       " 'student_55': [-0.8425590007579031, -0.554117890430879],\n",
       " 'student_56': [-0.14694458392487664, 0.37395317438557085],\n",
       " 'student_57': [-0.4545586129238216, 0.18487878900734378],\n",
       " 'student_58': [0.23999970784022007, -0.3404404142804276],\n",
       " 'student_6': [-0.3765653824692574, -0.02349527145282182],\n",
       " 'student_7': [0.4238930461905681, -0.5215661540707275],\n",
       " 'student_8': [0.33471817604114285, 0.0632967440665344],\n",
       " 'student_9': [0.7443462801852956, 0.49336808001368126]}"
      ]
     },
     "execution_count": 8,
     "metadata": {},
     "output_type": "execute_result"
    }
   ],
   "source": [
    "\n",
    "response = requests.post(url + \"/getDatasetProjection\",data = {'datasetId':dataset, 'alphas': json.dumps(alphas), 'begin': 0, 'end':36, \n",
    "                                                               'D_k': json.dumps(D_k), 'oldCoords': json.dumps(coords)})\n",
    "data = json.loads(response.content)\n",
    "coords = data[\"coords\"]\n",
    "D_k = data[\"D_k\"]\n",
    "coords"
   ]
  },
  {
   "cell_type": "markdown",
   "metadata": {},
   "source": [
    "## Clustering"
   ]
  },
  {
   "cell_type": "code",
   "execution_count": 38,
   "metadata": {},
   "outputs": [
    {
     "data": {
      "text/plain": [
       "{'0': ['1', '2', '4', '5'], '1': ['3', '6']}"
      ]
     },
     "execution_count": 38,
     "metadata": {},
     "output_type": "execute_result"
    }
   ],
   "source": [
    "response = requests.post(url + \"/doClustering\",data = {'datasetId':dataset, 'coords': json.dumps(coords), 'k': 2})\n",
    "clusters = json.loads(response.content)\n",
    "clusters"
   ]
  },
  {
   "cell_type": "markdown",
   "metadata": {},
   "source": [
    "## Rankings"
   ]
  },
  {
   "cell_type": "code",
   "execution_count": 39,
   "metadata": {},
   "outputs": [
    {
     "data": {
      "text/plain": [
       "{'Arousal': 0.051812307045928346, 'Valence': 3.415525686489257}"
      ]
     },
     "execution_count": 39,
     "metadata": {},
     "output_type": "execute_result"
    }
   ],
   "source": [
    "response = requests.post(url + \"/getFishersDiscriminantRanking\",data = {'datasetId':dataset, 'D_k': json.dumps(D_k), 'blueCluster': json.dumps(clusters['0']), 'redCluster': json.dumps(clusters['1']) })\n",
    "j_s = json.loads(response.content)\n",
    "j_s"
   ]
  },
  {
   "cell_type": "markdown",
   "metadata": {},
   "source": [
    "## Temporal summary"
   ]
  },
  {
   "cell_type": "code",
   "execution_count": 32,
   "metadata": {},
   "outputs": [],
   "source": [
    "response = requests.post(url + \"/getTemporalSummary\",data = {'datasetId':dataset})\n",
    "# json.loads(response.content)[\"mean\"]\n"
   ]
  },
  {
   "cell_type": "markdown",
   "metadata": {},
   "source": [
    "## Downsample"
   ]
  },
  {
   "cell_type": "code",
   "execution_count": 36,
   "metadata": {},
   "outputs": [
    {
     "data": {
      "text/plain": [
       "{'state': 'success'}"
      ]
     },
     "execution_count": 36,
     "metadata": {},
     "output_type": "execute_result"
    }
   ],
   "source": [
    "response = requests.post(url + \"/downsampleData\",data = {'datasetId':dataset, 'rule': 'T'})\n",
    "json.loads(response.content)"
   ]
  },
  {
   "cell_type": "markdown",
   "metadata": {},
   "source": [
    "## Reset dataset"
   ]
  },
  {
   "cell_type": "code",
   "execution_count": 68,
   "metadata": {},
   "outputs": [
    {
     "data": {
      "text/plain": [
       "{'state': 'success'}"
      ]
     },
     "execution_count": 68,
     "metadata": {},
     "output_type": "execute_result"
    }
   ],
   "source": [
    "response = requests.post(url + \"/resetDataset\",data = {'datasetId':dataset})\n",
    "json.loads(response.content)"
   ]
  },
  {
   "cell_type": "code",
   "execution_count": null,
   "metadata": {},
   "outputs": [],
   "source": []
  }
 ],
 "metadata": {
  "kernelspec": {
   "display_name": "Python 3",
   "language": "python",
   "name": "python3"
  },
  "language_info": {
   "codemirror_mode": {
    "name": "ipython",
    "version": 3
   },
   "file_extension": ".py",
   "mimetype": "text/x-python",
   "name": "python",
   "nbconvert_exporter": "python",
   "pygments_lexer": "ipython3",
   "version": "3.8.5"
  }
 },
 "nbformat": 4,
 "nbformat_minor": 5
}
