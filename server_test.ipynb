{
 "cells": [
  {
   "cell_type": "code",
   "execution_count": 8,
   "metadata": {},
   "outputs": [],
   "source": [
    "import json\n",
    "import requests\n",
    "import os\n",
    "\n",
    "# os.environ['NO_PROXY'] = '127.0.0.1'\n",
    "url = \"http://127.0.0.1:5000\""
   ]
  },
  {
   "cell_type": "markdown",
   "metadata": {},
   "source": [
    "## Get info\n"
   ]
  },
  {
   "cell_type": "code",
   "execution_count": 9,
   "metadata": {},
   "outputs": [
    {
     "data": {
      "text/plain": [
       "{'loadedDatasetsIds': ['ascertain', 'case_categorical'],\n",
       " 'localDatasetsIds': ['ascertain',\n",
       "  'drivers_workload',\n",
       "  'drivers_stress',\n",
       "  'wesad_dimensional_2',\n",
       "  'wesad_dimensional_3',\n",
       "  'wesad_categorical_panas',\n",
       "  'wesad_categorical_stai',\n",
       "  'case_dimensional',\n",
       "  'case_categorical']}"
      ]
     },
     "execution_count": 9,
     "metadata": {},
     "output_type": "execute_result"
    }
   ],
   "source": [
    "response = requests.post(url + \"/routeGetDatasetsInfo\", {})\n",
    "# dataset = 'ascertain'\n",
    "dataset = 'case_categorical'\n",
    "json.loads(response.content)"
   ]
  },
  {
   "cell_type": "markdown",
   "metadata": {},
   "source": [
    "## Load local dataset"
   ]
  },
  {
   "cell_type": "code",
   "execution_count": 3,
   "metadata": {},
   "outputs": [
    {
     "data": {
      "text/plain": [
       "{'state': 'success'}"
      ]
     },
     "execution_count": 3,
     "metadata": {},
     "output_type": "execute_result"
    }
   ],
   "source": [
    "response = requests.post(url + \"/loadLocalDataset\",data = {'datasetId':dataset})\n",
    "json.loads(response.content)"
   ]
  },
  {
   "cell_type": "markdown",
   "metadata": {},
   "source": [
    "## Remove dataset"
   ]
  },
  {
   "cell_type": "code",
   "execution_count": 17,
   "metadata": {},
   "outputs": [
    {
     "data": {
      "text/plain": [
       "{'state': 'error'}"
      ]
     },
     "execution_count": 17,
     "metadata": {},
     "output_type": "execute_result"
    }
   ],
   "source": [
    "response = requests.post(url + \"/removeDataset\",data = {'datasetId':dataset})\n",
    "json.loads(response.content)"
   ]
  },
  {
   "cell_type": "markdown",
   "metadata": {},
   "source": [
    "## Get Dataset info"
   ]
  },
  {
   "cell_type": "code",
   "execution_count": 10,
   "metadata": {},
   "outputs": [],
   "source": [
    "response = requests.post(url + \"/getDatasetInfo\",data = {'datasetId':dataset})\n",
    "\n",
    "info = json.loads(response.content)\n",
    "# info"
   ]
  },
  {
   "cell_type": "markdown",
   "metadata": {},
   "source": [
    "## Get Time Series"
   ]
  },
  {
   "cell_type": "code",
   "execution_count": 5,
   "metadata": {},
   "outputs": [],
   "source": [
    "# response = requests.post(url + \"/getMTSeries\",data = {'datasetId':dataset, 'begin': 0, 'end': 5, 'ids': json.dumps(['s4', 's2', 's5'])})\n",
    "# json.loads(response.content)"
   ]
  },
  {
   "cell_type": "markdown",
   "metadata": {},
   "source": [
    "## Get projection\n"
   ]
  },
  {
   "cell_type": "code",
   "execution_count": 11,
   "metadata": {},
   "outputs": [],
   "source": [
    "alphas = {label: 1 for label in info[\"seriesLabels\"]}\n",
    "D_k = {}\n",
    "coords = {}"
   ]
  },
  {
   "cell_type": "code",
   "execution_count": 12,
   "metadata": {},
   "outputs": [
    {
     "data": {
      "text/plain": [
       "{'1': [-0.34655396623684254, -0.31354615043304923],\n",
       " '10': [0.030157836319931297, 0.5206156284950145],\n",
       " '11': [-0.7484552651029182, -0.45845270674805993],\n",
       " '12': [0.7063725522191042, -0.46845505650691244],\n",
       " '13': [-0.6343976133938124, 0.3820419609084251],\n",
       " '14': [0.8362588749819571, 0.5712173289482743],\n",
       " '15': [-0.6425594679633474, -0.751238187173185],\n",
       " '16': [0.8906119164505464, -0.28236241486152025],\n",
       " '17': [-0.8734530466904246, 0.08270747650758281],\n",
       " '18': [0.12007087636637137, 1.0],\n",
       " '19': [0.06917288040819214, -0.7037009039089623],\n",
       " '2': [-0.9184963749478082, -0.2119702516820896],\n",
       " '20': [0.3443699086971692, -0.937804076377504],\n",
       " '21': [0.49515345020585144, 0.5960588095350137],\n",
       " '22': [-0.23629958644600602, 0.650677439857392],\n",
       " '23': [0.35081034772221154, -0.37556514855773027],\n",
       " '24': [0.8384303788138752, 0.2613785842281455],\n",
       " '25': [0.5608387475333534, -0.7095065600030221],\n",
       " '26': [-0.45073678032875564, 0.018173243907628756],\n",
       " '27': [-0.5442450552720236, 0.7012157164741983],\n",
       " '28': [-0.29038410750874954, 0.9440260124777904],\n",
       " '29': [-0.10422395783539729, -1.0],\n",
       " '3': [0.28537030806652175, 0.24631347795425085],\n",
       " '30': [0.9403622952010968, 0.02866197375124946],\n",
       " '4': [-0.0011981150173164812, -0.2685215998916535],\n",
       " '5': [0.49534541613643346, -0.05365971388718027],\n",
       " '6': [-0.327419541554659, -0.7037390174369667],\n",
       " '7': [-0.9403622952010967, 0.43475763115755006],\n",
       " '8': [-0.04637462484596855, 0.0956270253691256],\n",
       " '9': [0.4226023545247899, 0.8511068107387203]}"
      ]
     },
     "execution_count": 12,
     "metadata": {},
     "output_type": "execute_result"
    }
   ],
   "source": [
    "response = requests.post(url + \"/getDatasetProjection\",data = {'datasetId':dataset, 'alphas': json.dumps(alphas), 'begin': 0, 'end':2000, \n",
    "                                                               'D_k': json.dumps(D_k), 'oldCoords': json.dumps(coords), 'distance': 2,\n",
    "                                                               'projection':0, 'projectionParameter' : 5\n",
    "                                                              })\n",
    "data = json.loads(response.content)\n",
    "coords = data[\"coords\"]\n",
    "D_k = data[\"D_k\"]\n",
    "coords"
   ]
  },
  {
   "cell_type": "markdown",
   "metadata": {},
   "source": [
    "## Clustering"
   ]
  },
  {
   "cell_type": "code",
   "execution_count": 38,
   "metadata": {},
   "outputs": [
    {
     "data": {
      "text/plain": [
       "{'0': ['1', '2', '4', '5'], '1': ['3', '6']}"
      ]
     },
     "execution_count": 38,
     "metadata": {},
     "output_type": "execute_result"
    }
   ],
   "source": [
    "response = requests.post(url + \"/doClustering\",data = {'datasetId':dataset, 'coords': json.dumps(coords), 'k': 2})\n",
    "clusters = json.loads(response.content)\n",
    "clusters"
   ]
  },
  {
   "cell_type": "markdown",
   "metadata": {},
   "source": [
    "## Rankings"
   ]
  },
  {
   "cell_type": "code",
   "execution_count": 39,
   "metadata": {},
   "outputs": [
    {
     "data": {
      "text/plain": [
       "{'Arousal': 0.051812307045928346, 'Valence': 3.415525686489257}"
      ]
     },
     "execution_count": 39,
     "metadata": {},
     "output_type": "execute_result"
    }
   ],
   "source": [
    "response = requests.post(url + \"/getFishersDiscriminantRanking\",data = {'datasetId':dataset, 'D_k': json.dumps(D_k), 'blueCluster': json.dumps(clusters['0']), 'redCluster': json.dumps(clusters['1']) })\n",
    "j_s = json.loads(response.content)\n",
    "j_s"
   ]
  },
  {
   "cell_type": "markdown",
   "metadata": {},
   "source": [
    "## Temporal summary"
   ]
  },
  {
   "cell_type": "code",
   "execution_count": 32,
   "metadata": {},
   "outputs": [],
   "source": [
    "response = requests.post(url + \"/getTemporalSummary\",data = {'datasetId':dataset})\n",
    "# json.loads(response.content)[\"mean\"]\n"
   ]
  },
  {
   "cell_type": "markdown",
   "metadata": {},
   "source": [
    "## Downsample"
   ]
  },
  {
   "cell_type": "code",
   "execution_count": 36,
   "metadata": {},
   "outputs": [
    {
     "data": {
      "text/plain": [
       "{'state': 'success'}"
      ]
     },
     "execution_count": 36,
     "metadata": {},
     "output_type": "execute_result"
    }
   ],
   "source": [
    "response = requests.post(url + \"/downsampleData\",data = {'datasetId':dataset, 'rule': 'T'})\n",
    "json.loads(response.content)"
   ]
  },
  {
   "cell_type": "markdown",
   "metadata": {},
   "source": [
    "## Reset dataset"
   ]
  },
  {
   "cell_type": "code",
   "execution_count": 68,
   "metadata": {},
   "outputs": [
    {
     "data": {
      "text/plain": [
       "{'state': 'success'}"
      ]
     },
     "execution_count": 68,
     "metadata": {},
     "output_type": "execute_result"
    }
   ],
   "source": [
    "response = requests.post(url + \"/resetDataset\",data = {'datasetId':dataset})\n",
    "json.loads(response.content)"
   ]
  },
  {
   "cell_type": "code",
   "execution_count": null,
   "metadata": {},
   "outputs": [],
   "source": []
  }
 ],
 "metadata": {
  "kernelspec": {
   "display_name": "Python 3",
   "language": "python",
   "name": "python3"
  },
  "language_info": {
   "codemirror_mode": {
    "name": "ipython",
    "version": 3
   },
   "file_extension": ".py",
   "mimetype": "text/x-python",
   "name": "python",
   "nbconvert_exporter": "python",
   "pygments_lexer": "ipython3",
   "version": "3.8.5"
  }
 },
 "nbformat": 4,
 "nbformat_minor": 5
}
