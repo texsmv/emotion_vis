{
 "cells": [
  {
   "cell_type": "code",
   "execution_count": 1,
   "id": "provincial-directive",
   "metadata": {},
   "outputs": [],
   "source": [
    "import json\n",
    "import requests\n",
    "import os\n",
    "\n",
    "# os.environ['NO_PROXY'] = '127.0.0.1'\n",
    "url = \"http://127.0.0.1:5000\""
   ]
  },
  {
   "cell_type": "markdown",
   "id": "fatal-artist",
   "metadata": {},
   "source": [
    "## Get info\n"
   ]
  },
  {
   "cell_type": "code",
   "execution_count": 8,
   "id": "experienced-nevada",
   "metadata": {},
   "outputs": [
    {
     "data": {
      "text/plain": [
       "{'loadedDatasetsIds': ['wesad_dimensional', 'wesad_categorical'],\n",
       " 'localDatasetsIds': ['case', 'wesad_dimensional', 'wesad_categorical']}"
      ]
     },
     "execution_count": 8,
     "metadata": {},
     "output_type": "execute_result"
    }
   ],
   "source": [
    "response = requests.post(url + \"/routeGetDatasetsInfo\", {})\n",
    "dataset = 'wesad_dimensional'\n",
    "json.loads(response.content)"
   ]
  },
  {
   "cell_type": "markdown",
   "id": "portable-audio",
   "metadata": {},
   "source": [
    "## Load local dataset"
   ]
  },
  {
   "cell_type": "code",
   "execution_count": 6,
   "id": "residential-bailey",
   "metadata": {},
   "outputs": [
    {
     "data": {
      "text/plain": [
       "{'state': 'success'}"
      ]
     },
     "execution_count": 6,
     "metadata": {},
     "output_type": "execute_result"
    }
   ],
   "source": [
    "response = requests.post(url + \"/loadLocalDataset\",data = {'datasetId':dataset})\n",
    "json.loads(response.content)"
   ]
  },
  {
   "cell_type": "markdown",
   "id": "acceptable-being",
   "metadata": {},
   "source": [
    "## Remove dataset"
   ]
  },
  {
   "cell_type": "code",
   "execution_count": 17,
   "id": "inner-softball",
   "metadata": {},
   "outputs": [
    {
     "data": {
      "text/plain": [
       "{'state': 'error'}"
      ]
     },
     "execution_count": 17,
     "metadata": {},
     "output_type": "execute_result"
    }
   ],
   "source": [
    "response = requests.post(url + \"/removeDataset\",data = {'datasetId':dataset})\n",
    "json.loads(response.content)"
   ]
  },
  {
   "cell_type": "markdown",
   "id": "surface-nebraska",
   "metadata": {},
   "source": [
    "## Get Dataset info"
   ]
  },
  {
   "cell_type": "code",
   "execution_count": 9,
   "id": "russian-blocking",
   "metadata": {},
   "outputs": [
    {
     "data": {
      "text/plain": [
       "{'categoricalLabels': {'Dominant hand': ['left', 'right'],\n",
       "  'Gender': ['female', 'male']},\n",
       " 'dimensions': {'Arousal': 'arousal', 'Valence': 'valence'},\n",
       " 'globalEmotionMax': {'Arousal': 9, 'Valence': 9},\n",
       " 'globalEmotionMin': {'Arousal': 0, 'Valence': 0},\n",
       " 'ids': ['s10',\n",
       "  's11',\n",
       "  's13',\n",
       "  's14',\n",
       "  's15',\n",
       "  's16',\n",
       "  's17',\n",
       "  's2',\n",
       "  's3',\n",
       "  's4',\n",
       "  's5',\n",
       "  's6',\n",
       "  's7',\n",
       "  's8',\n",
       "  's9'],\n",
       " 'instanceLen': 15,\n",
       " 'isDated': False,\n",
       " 'numericalLabels': ['Age', 'Height (cm)', 'Weight (kg)'],\n",
       " 'seriesLabels': ['Valence', 'Arousal'],\n",
       " 'temporalLen': 5,\n",
       " 'type': 'dimensional',\n",
       " 'variablesLen': 32}"
      ]
     },
     "execution_count": 9,
     "metadata": {},
     "output_type": "execute_result"
    }
   ],
   "source": [
    "response = requests.post(url + \"/getDatasetInfo\",data = {'datasetId':dataset})\n",
    "\n",
    "info = json.loads(response.content)\n",
    "info"
   ]
  },
  {
   "cell_type": "markdown",
   "id": "incomplete-madison",
   "metadata": {},
   "source": [
    "## Get Time Series"
   ]
  },
  {
   "cell_type": "code",
   "execution_count": 69,
   "id": "thirty-garlic",
   "metadata": {},
   "outputs": [
    {
     "data": {
      "text/plain": [
       "{'1': {'categoricalFeatures': [],\n",
       "  'categoricalLabels': [],\n",
       "  'index': ['2021-02-10 01:55:19',\n",
       "   '2021-02-10 01:55:19.050000',\n",
       "   '2021-02-10 01:55:19.100000',\n",
       "   '2021-02-10 01:55:19.150000'],\n",
       "  'metadata': {'id': '1'},\n",
       "  'numericalFeatures': [],\n",
       "  'numericalLabels': [],\n",
       "  'temporalVariables': {'Arousal': [5.0, 5.0, 5.0, 5.0],\n",
       "   'Valence': [5.0, 5.0, 5.0, 5.0],\n",
       "   'Video': [10.0, 10.0, 10.0, 10.0]}},\n",
       " '2': {'categoricalFeatures': [],\n",
       "  'categoricalLabels': [],\n",
       "  'index': ['2021-02-10 01:55:19',\n",
       "   '2021-02-10 01:55:19.050000',\n",
       "   '2021-02-10 01:55:19.100000',\n",
       "   '2021-02-10 01:55:19.150000'],\n",
       "  'metadata': {'id': '2'},\n",
       "  'numericalFeatures': [],\n",
       "  'numericalLabels': [],\n",
       "  'temporalVariables': {'Arousal': [5.0, 5.0, 5.0, 5.0],\n",
       "   'Valence': [5.0, 5.0, 5.0, 5.0],\n",
       "   'Video': [10.0, 10.0, 10.0, 10.0]}},\n",
       " '5': {'categoricalFeatures': [],\n",
       "  'categoricalLabels': [],\n",
       "  'index': ['2021-02-10 01:55:19',\n",
       "   '2021-02-10 01:55:19.050000',\n",
       "   '2021-02-10 01:55:19.100000',\n",
       "   '2021-02-10 01:55:19.150000'],\n",
       "  'metadata': {'id': '5'},\n",
       "  'numericalFeatures': [],\n",
       "  'numericalLabels': [],\n",
       "  'temporalVariables': {'Arousal': [5.0, 5.0, 5.0, 5.0],\n",
       "   'Valence': [5.0, 5.0, 5.0, 5.0],\n",
       "   'Video': [10.0, 10.0, 10.0, 10.0]}}}"
      ]
     },
     "execution_count": 69,
     "metadata": {},
     "output_type": "execute_result"
    }
   ],
   "source": [
    "response = requests.post(url + \"/getMTSeries\",data = {'datasetId':dataset, 'begin': 0, 'end': 4, 'ids': json.dumps(['1', '2', '5'])})\n",
    "json.loads(response.content)"
   ]
  },
  {
   "cell_type": "markdown",
   "id": "moving-grounds",
   "metadata": {},
   "source": [
    "## Get projection\n"
   ]
  },
  {
   "cell_type": "code",
   "execution_count": 49,
   "id": "amber-election",
   "metadata": {},
   "outputs": [],
   "source": [
    "alphas = {label: 1 for label in info[\"seriesLabels\"]}\n",
    "D_k = {}\n",
    "coords = {}"
   ]
  },
  {
   "cell_type": "code",
   "execution_count": 50,
   "id": "patient-making",
   "metadata": {},
   "outputs": [
    {
     "data": {
      "text/plain": [
       "{'1': [10.331422178159485, -7.822703821703016],\n",
       " '2': [9.149584635408338, 1.78141223125199],\n",
       " '3': [-10.179948481847532, -1.4284377541435411],\n",
       " '4': [-3.7285033656149005, -10.076584413672705],\n",
       " '5': [-7.418150277018119, 9.925811489772995],\n",
       " '6': [1.845595310912727, 7.620502268494276]}"
      ]
     },
     "execution_count": 50,
     "metadata": {},
     "output_type": "execute_result"
    }
   ],
   "source": [
    "\n",
    "response = requests.post(url + \"/getDatasetProjection\",data = {'datasetId':dataset, 'alphas': json.dumps(alphas), 'begin': 0, 'end':40, \n",
    "                                                               'D_k': json.dumps(D_k), 'oldCoords': json.dumps(coords)})\n",
    "data = json.loads(response.content)\n",
    "coords = data[\"coords\"]\n",
    "D_k = data[\"D_k\"]\n",
    "coords"
   ]
  },
  {
   "cell_type": "markdown",
   "id": "hungry-gregory",
   "metadata": {},
   "source": [
    "## Clustering"
   ]
  },
  {
   "cell_type": "code",
   "execution_count": 38,
   "id": "altered-bronze",
   "metadata": {},
   "outputs": [
    {
     "data": {
      "text/plain": [
       "{'0': ['1', '2', '4', '5'], '1': ['3', '6']}"
      ]
     },
     "execution_count": 38,
     "metadata": {},
     "output_type": "execute_result"
    }
   ],
   "source": [
    "response = requests.post(url + \"/doClustering\",data = {'datasetId':dataset, 'coords': json.dumps(coords), 'k': 2})\n",
    "clusters = json.loads(response.content)\n",
    "clusters"
   ]
  },
  {
   "cell_type": "markdown",
   "id": "continuous-brick",
   "metadata": {},
   "source": [
    "## Rankings"
   ]
  },
  {
   "cell_type": "code",
   "execution_count": 39,
   "id": "offensive-bahamas",
   "metadata": {},
   "outputs": [
    {
     "data": {
      "text/plain": [
       "{'Arousal': 0.051812307045928346, 'Valence': 3.415525686489257}"
      ]
     },
     "execution_count": 39,
     "metadata": {},
     "output_type": "execute_result"
    }
   ],
   "source": [
    "response = requests.post(url + \"/getFishersDiscriminantRanking\",data = {'datasetId':dataset, 'D_k': json.dumps(D_k), 'blueCluster': json.dumps(clusters['0']), 'redCluster': json.dumps(clusters['1']) })\n",
    "j_s = json.loads(response.content)\n",
    "j_s"
   ]
  },
  {
   "cell_type": "markdown",
   "id": "operating-february",
   "metadata": {},
   "source": [
    "## Temporal summary"
   ]
  },
  {
   "cell_type": "code",
   "execution_count": 41,
   "id": "architectural-directive",
   "metadata": {},
   "outputs": [
    {
     "data": {
      "text/plain": [
       "{'Arousal': [5.559671133137543,\n",
       "  5.172665973241965,\n",
       "  5.335087453091859,\n",
       "  5.316978870941426,\n",
       "  4.931075318159569,\n",
       "  4.985956457007668],\n",
       " 'Valence': [5.22886739272312,\n",
       "  4.902533223201175,\n",
       "  5.231475383423071,\n",
       "  4.878587820199053,\n",
       "  5.036623715124817,\n",
       "  5.253636441507587]}"
      ]
     },
     "execution_count": 41,
     "metadata": {},
     "output_type": "execute_result"
    }
   ],
   "source": [
    "response = requests.post(url + \"/getTemporalSummary\",data = {'datasetId':dataset})\n",
    "json.loads(response.content)[\"mean\"]\n"
   ]
  },
  {
   "cell_type": "markdown",
   "id": "chief-exercise",
   "metadata": {},
   "source": [
    "## Downsample"
   ]
  },
  {
   "cell_type": "code",
   "execution_count": 71,
   "id": "structured-latter",
   "metadata": {},
   "outputs": [
    {
     "data": {
      "text/plain": [
       "{'state': 'success'}"
      ]
     },
     "execution_count": 71,
     "metadata": {},
     "output_type": "execute_result"
    }
   ],
   "source": [
    "response = requests.post(url + \"/downsampleData\",data = {'datasetId':dataset, 'rule': 'S'})\n",
    "json.loads(response.content)"
   ]
  },
  {
   "cell_type": "markdown",
   "id": "general-integration",
   "metadata": {},
   "source": [
    "## Reset dataset"
   ]
  },
  {
   "cell_type": "code",
   "execution_count": 68,
   "id": "likely-philadelphia",
   "metadata": {},
   "outputs": [
    {
     "data": {
      "text/plain": [
       "{'state': 'success'}"
      ]
     },
     "execution_count": 68,
     "metadata": {},
     "output_type": "execute_result"
    }
   ],
   "source": [
    "response = requests.post(url + \"/resetDataset\",data = {'datasetId':dataset})\n",
    "json.loads(response.content)"
   ]
  },
  {
   "cell_type": "code",
   "execution_count": null,
   "id": "alien-browser",
   "metadata": {},
   "outputs": [],
   "source": []
  }
 ],
 "metadata": {
  "kernelspec": {
   "display_name": "Python 3",
   "language": "python",
   "name": "python3"
  },
  "language_info": {
   "codemirror_mode": {
    "name": "ipython",
    "version": 3
   },
   "file_extension": ".py",
   "mimetype": "text/x-python",
   "name": "python",
   "nbconvert_exporter": "python",
   "pygments_lexer": "ipython3",
   "version": "3.9.2"
  }
 },
 "nbformat": 4,
 "nbformat_minor": 5
}
