{
 "cells": [
  {
   "cell_type": "code",
   "execution_count": 1,
   "id": "inclusive-creature",
   "metadata": {},
   "outputs": [],
   "source": [
    "import json\n",
    "import requests\n",
    "import os\n",
    "\n",
    "# os.environ['NO_PROXY'] = '127.0.0.1'\n",
    "url = \"http://127.0.0.1:5000\""
   ]
  },
  {
   "cell_type": "markdown",
   "id": "brave-layout",
   "metadata": {},
   "source": [
    "## Get info\n"
   ]
  },
  {
   "cell_type": "code",
   "execution_count": 18,
   "id": "monthly-skating",
   "metadata": {},
   "outputs": [
    {
     "data": {
      "text/plain": [
       "{'loadedDatasetsIds': ['wesad'], 'localDatasetsIds': ['case', 'wesad']}"
      ]
     },
     "execution_count": 18,
     "metadata": {},
     "output_type": "execute_result"
    }
   ],
   "source": [
    "response = requests.post(url + \"/routeGetDatasetsInfo\", {})\n",
    "dataset = 'wesad'\n",
    "json.loads(response.content)"
   ]
  },
  {
   "cell_type": "markdown",
   "id": "natural-shanghai",
   "metadata": {},
   "source": [
    "## Load local dataset"
   ]
  },
  {
   "cell_type": "code",
   "execution_count": 21,
   "id": "periodic-davis",
   "metadata": {},
   "outputs": [
    {
     "data": {
      "text/plain": [
       "{'state': 'success'}"
      ]
     },
     "execution_count": 21,
     "metadata": {},
     "output_type": "execute_result"
    }
   ],
   "source": [
    "esponse = requests.post(url + \"/loadLocalDataset\",data = {'datasetId':dataset})\n",
    "json.loads(response.content)"
   ]
  },
  {
   "cell_type": "markdown",
   "id": "thick-research",
   "metadata": {},
   "source": [
    "## Remove dataset"
   ]
  },
  {
   "cell_type": "code",
   "execution_count": 20,
   "id": "piano-change",
   "metadata": {},
   "outputs": [
    {
     "data": {
      "text/plain": [
       "{'state': 'success'}"
      ]
     },
     "execution_count": 20,
     "metadata": {},
     "output_type": "execute_result"
    }
   ],
   "source": [
    "response = requests.post(url + \"/removeDataset\",data = {'datasetId':dataset})\n",
    "json.loads(response.content)"
   ]
  },
  {
   "cell_type": "markdown",
   "id": "middle-zoning",
   "metadata": {},
   "source": [
    "## Get Dataset info"
   ]
  },
  {
   "cell_type": "code",
   "execution_count": 30,
   "id": "effective-denver",
   "metadata": {},
   "outputs": [],
   "source": [
    "response = requests.post(url + \"/getDatasetInfo\",data = {'datasetId':dataset, 'procesed':'True'})\n",
    "# json.loads(response.content)"
   ]
  },
  {
   "cell_type": "markdown",
   "id": "mysterious-salem",
   "metadata": {},
   "source": [
    "## Get Time Series"
   ]
  },
  {
   "cell_type": "code",
   "execution_count": 31,
   "id": "improving-change",
   "metadata": {},
   "outputs": [
    {
     "data": {
      "text/plain": [
       "{'s11': {'categoricalFeatures': ['right', 'female'],\n",
       "  'categoricalLabels': ['Dominant hand', 'Gender'],\n",
       "  'index': ['0', '1', '2', '3'],\n",
       "  'metadata': {'id': 's11'},\n",
       "  'numericalFeatures': [26.0, 171.0, 54.0],\n",
       "  'numericalLabels': ['Age', 'Height (cm)', 'Weight (kg)'],\n",
       "  'temporalVariables': {'Arousal': [2.0, 6.0, 2.0, 3.0],\n",
       "   'PANAS-Active': [1.0, 4.0, 2.0, 1.0],\n",
       "   'PANAS-Afraid': [1.0, 2.0, 1.0, 1.0],\n",
       "   'PANAS-Alert': [4.0, 4.0, 3.0, 2.0],\n",
       "   'PANAS-Annoyed': [1.0, 1.0, 2.0, 1.0],\n",
       "   'PANAS-Ashamed': [1.0, 1.0, 1.0, 1.0],\n",
       "   'PANAS-Attentive': [3.0, 5.0, 4.0, 4.0],\n",
       "   'PANAS-Determined': [1.0, 4.0, 2.0, 1.0],\n",
       "   'PANAS-Distressed': [1.0, 1.0, 1.0, 1.0],\n",
       "   'PANAS-Enthusiastic': [2.0, 1.0, 3.0, 4.0],\n",
       "   'PANAS-Excited': [1.0, 3.0, 3.0, 2.0],\n",
       "   'PANAS-Frustrated': [1.0, 1.0, 1.0, 1.0],\n",
       "   'PANAS-Guilty': [1.0, 1.0, 1.0, 1.0],\n",
       "   'PANAS-Happy': [1.0, 1.0, 4.0, 4.0],\n",
       "   'PANAS-Hostile': [1.0, 1.0, 1.0, 1.0],\n",
       "   'PANAS-Inspired': [2.0, 2.0, 3.0, 4.0],\n",
       "   'PANAS-Interested': [3.0, 4.0, 4.0, 3.0],\n",
       "   'PANAS-Irritable': [1.0, 2.0, 1.0, 1.0],\n",
       "   'PANAS-Jittery': [1.0, 2.0, 1.0, 1.0],\n",
       "   'PANAS-Nervous': [1.0, 4.0, 1.0, 1.0],\n",
       "   'PANAS-Proud': [1.0, 3.0, 1.0, 1.0],\n",
       "   'PANAS-Sad': [1.0, 1.0, 1.0, 1.0],\n",
       "   'PANAS-Scared': [1.0, 3.0, 1.0, 1.0],\n",
       "   'PANAS-Stressed': [1.0, 3.0, 1.0, 1.0],\n",
       "   'PANAS-Strong': [1.0, 3.0, 4.0, 1.0],\n",
       "   'STAI-I am jittery': [1.0, 2.0, 1.0, 1.0],\n",
       "   'STAI-I am relaxed': [4.0, 1.0, 4.0, 4.0],\n",
       "   'STAI-I am worried': [1.0, 2.0, 1.0, 1.0],\n",
       "   'STAI-I feel at ease': [3.0, 1.0, 4.0, 4.0],\n",
       "   'STAI-I feel nervous': [1.0, 3.0, 1.0, 1.0],\n",
       "   'STAI-I feel pleasant': [2.0, 1.0, 2.0, 4.0],\n",
       "   'Valence': [6.0, 4.0, 7.0, 8.0]}},\n",
       " 's2': {'categoricalFeatures': ['right', 'male'],\n",
       "  'categoricalLabels': ['Dominant hand', 'Gender'],\n",
       "  'index': ['0', '1', '2', '3'],\n",
       "  'metadata': {'id': 's2'},\n",
       "  'numericalFeatures': [27.0, 175.0, 80.0],\n",
       "  'numericalLabels': ['Age', 'Height (cm)', 'Weight (kg)'],\n",
       "  'temporalVariables': {'Arousal': [2.0, 4.0, 2.0, 1.0],\n",
       "   'PANAS-Active': [1.0, 3.0, 1.0, 1.0],\n",
       "   'PANAS-Afraid': [2.0, 3.0, 1.0, 1.0],\n",
       "   'PANAS-Alert': [4.0, 5.0, 2.0, 4.0],\n",
       "   'PANAS-Annoyed': [1.0, 3.0, 1.0, 1.0],\n",
       "   'PANAS-Ashamed': [1.0, 1.0, 1.0, 1.0],\n",
       "   'PANAS-Attentive': [4.0, 4.0, 3.0, 3.0],\n",
       "   'PANAS-Determined': [4.0, 4.0, 2.0, 1.0],\n",
       "   'PANAS-Distressed': [1.0, 2.0, 1.0, 1.0],\n",
       "   'PANAS-Enthusiastic': [2.0, 3.0, 3.0, 2.0],\n",
       "   'PANAS-Excited': [2.0, 4.0, 1.0, 1.0],\n",
       "   'PANAS-Frustrated': [1.0, 3.0, 1.0, 2.0],\n",
       "   'PANAS-Guilty': [1.0, 1.0, 1.0, 1.0],\n",
       "   'PANAS-Happy': [2.0, 2.0, 4.0, 3.0],\n",
       "   'PANAS-Hostile': [1.0, 1.0, 1.0, 1.0],\n",
       "   'PANAS-Inspired': [2.0, 1.0, 3.0, 3.0],\n",
       "   'PANAS-Interested': [3.0, 4.0, 2.0, 2.0],\n",
       "   'PANAS-Irritable': [2.0, 4.0, 1.0, 1.0],\n",
       "   'PANAS-Jittery': [2.0, 2.0, 1.0, 1.0],\n",
       "   'PANAS-Nervous': [3.0, 4.0, 1.0, 1.0],\n",
       "   'PANAS-Proud': [2.0, 2.0, 1.0, 1.0],\n",
       "   'PANAS-Sad': [1.0, 1.0, 1.0, 1.0],\n",
       "   'PANAS-Scared': [1.0, 2.0, 1.0, 1.0],\n",
       "   'PANAS-Stressed': [2.0, 3.0, 1.0, 1.0],\n",
       "   'PANAS-Strong': [3.0, 3.0, 2.0, 1.0],\n",
       "   'STAI-I am jittery': [1.0, 2.0, 1.0, 1.0],\n",
       "   'STAI-I am relaxed': [4.0, 1.0, 4.0, 3.0],\n",
       "   'STAI-I am worried': [2.0, 3.0, 2.0, 1.0],\n",
       "   'STAI-I feel at ease': [3.0, 1.0, 4.0, 3.0],\n",
       "   'STAI-I feel nervous': [2.0, 3.0, 1.0, 1.0],\n",
       "   'STAI-I feel pleasant': [3.0, 1.0, 4.0, 4.0],\n",
       "   'Valence': [7.0, 5.0, 7.0, 8.0]}}}"
      ]
     },
     "execution_count": 31,
     "metadata": {},
     "output_type": "execute_result"
    }
   ],
   "source": [
    "response = requests.post(url + \"/getMTSeries\",data = {'datasetId':dataset, 'begin': 0, 'end': 4, 'ids': json.dumps(['s2', 's11']), 'procesed' : 'True' })\n",
    "json.loads(response.content)"
   ]
  },
  {
   "cell_type": "code",
   "execution_count": null,
   "id": "rocky-rental",
   "metadata": {},
   "outputs": [],
   "source": []
  }
 ],
 "metadata": {
  "kernelspec": {
   "display_name": "Python 3",
   "language": "python",
   "name": "python3"
  },
  "language_info": {
   "codemirror_mode": {
    "name": "ipython",
    "version": 3
   },
   "file_extension": ".py",
   "mimetype": "text/x-python",
   "name": "python",
   "nbconvert_exporter": "python",
   "pygments_lexer": "ipython3",
   "version": "3.9.2"
  }
 },
 "nbformat": 4,
 "nbformat_minor": 5
}
