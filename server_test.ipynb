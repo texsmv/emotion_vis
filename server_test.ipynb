{
 "cells": [
  {
   "cell_type": "code",
   "execution_count": 23,
   "id": "optional-rough",
   "metadata": {},
   "outputs": [],
   "source": [
    "import json\n",
    "import requests\n",
    "import os\n",
    "\n",
    "# os.environ['NO_PROXY'] = '127.0.0.1'\n",
    "url = \"http://127.0.0.1:5000\""
   ]
  },
  {
   "cell_type": "markdown",
   "id": "bound-general",
   "metadata": {},
   "source": [
    "## Get info\n"
   ]
  },
  {
   "cell_type": "code",
   "execution_count": 24,
   "id": "hispanic-intellectual",
   "metadata": {},
   "outputs": [
    {
     "data": {
      "text/plain": [
       "{'loadedDatasetsIds': [],\n",
       " 'localDatasetsIds': ['case_categorical',\n",
       "  'case_dimensional',\n",
       "  'wesad_dimensional',\n",
       "  'wesad_categorical']}"
      ]
     },
     "execution_count": 24,
     "metadata": {},
     "output_type": "execute_result"
    }
   ],
   "source": [
    "response = requests.post(url + \"/routeGetDatasetsInfo\", {})\n",
    "dataset = 'wesad_dimensional'\n",
    "# dataset = 'wesad_dimensional'\n",
    "json.loads(response.content)"
   ]
  },
  {
   "cell_type": "markdown",
   "id": "encouraging-beaver",
   "metadata": {},
   "source": [
    "## Load local dataset"
   ]
  },
  {
   "cell_type": "code",
   "execution_count": 25,
   "id": "urban-ethnic",
   "metadata": {},
   "outputs": [
    {
     "data": {
      "text/plain": [
       "{'state': 'success'}"
      ]
     },
     "execution_count": 25,
     "metadata": {},
     "output_type": "execute_result"
    }
   ],
   "source": [
    "response = requests.post(url + \"/loadLocalDataset\",data = {'datasetId':dataset})\n",
    "json.loads(response.content)"
   ]
  },
  {
   "cell_type": "markdown",
   "id": "hearing-tissue",
   "metadata": {},
   "source": [
    "## Remove dataset"
   ]
  },
  {
   "cell_type": "code",
   "execution_count": 17,
   "id": "bored-berkeley",
   "metadata": {},
   "outputs": [
    {
     "data": {
      "text/plain": [
       "{'state': 'error'}"
      ]
     },
     "execution_count": 17,
     "metadata": {},
     "output_type": "execute_result"
    }
   ],
   "source": [
    "response = requests.post(url + \"/removeDataset\",data = {'datasetId':dataset})\n",
    "json.loads(response.content)"
   ]
  },
  {
   "cell_type": "markdown",
   "id": "opposed-finding",
   "metadata": {},
   "source": [
    "## Get Dataset info"
   ]
  },
  {
   "cell_type": "code",
   "execution_count": 20,
   "id": "severe-visitor",
   "metadata": {},
   "outputs": [
    {
     "data": {
      "text/plain": [
       "{'categoricalLabels': {'Dominant hand': ['left', 'right'],\n",
       "  'Gender': ['female', 'male']},\n",
       " 'dimensions': {'Arousal': 'arousal', 'Valence': 'valence'},\n",
       " 'globalEmotionMax': {'Arousal': 9.0, 'Valence': 9.0},\n",
       " 'globalEmotionMin': {'Arousal': 0.0, 'Valence': 0.0},\n",
       " 'ids': ['s10',\n",
       "  's11',\n",
       "  's13',\n",
       "  's14',\n",
       "  's15',\n",
       "  's16',\n",
       "  's17',\n",
       "  's2',\n",
       "  's3',\n",
       "  's4',\n",
       "  's5',\n",
       "  's6',\n",
       "  's7',\n",
       "  's8',\n",
       "  's9'],\n",
       " 'instanceLen': 15,\n",
       " 'isDated': False,\n",
       " 'labels': ['Base', 'TSST', 'Medi 1', 'Fun', 'Medi2'],\n",
       " 'numericalLabels': ['Age', 'Height (cm)', 'Weight (kg)'],\n",
       " 'seriesLabels': ['Valence', 'Arousal'],\n",
       " 'temporalLen': 5,\n",
       " 'type': 'dimensional',\n",
       " 'variablesLen': 32}"
      ]
     },
     "execution_count": 20,
     "metadata": {},
     "output_type": "execute_result"
    }
   ],
   "source": [
    "response = requests.post(url + \"/getDatasetInfo\",data = {'datasetId':dataset})\n",
    "\n",
    "info = json.loads(response.content)\n",
    "info"
   ]
  },
  {
   "cell_type": "markdown",
   "id": "official-opinion",
   "metadata": {},
   "source": [
    "## Get Time Series"
   ]
  },
  {
   "cell_type": "code",
   "execution_count": 27,
   "id": "employed-simple",
   "metadata": {},
   "outputs": [
    {
     "data": {
      "text/plain": [
       "{'s2': {'categoricalFeatures': ['right', 'male'],\n",
       "  'categoricalLabels': ['Dominant hand', 'Gender'],\n",
       "  'index': ['0', '1', '2', '3', '4'],\n",
       "  'metadata': {'id': 's2'},\n",
       "  'numericalFeatures': [27.0, 175.0, 80.0],\n",
       "  'numericalLabels': ['Age', 'Height (cm)', 'Weight (kg)'],\n",
       "  'temporalVariables': {'Arousal': [2.0, 4.0, 2.0, 1.0, 2.0],\n",
       "   'PANAS-Active': [1.0, 3.0, 1.0, 1.0, 1.0],\n",
       "   'PANAS-Afraid': [2.0, 3.0, 1.0, 1.0, 1.0],\n",
       "   'PANAS-Alert': [4.0, 5.0, 2.0, 4.0, 2.0],\n",
       "   'PANAS-Annoyed': [1.0, 3.0, 1.0, 1.0, 1.0],\n",
       "   'PANAS-Ashamed': [1.0, 1.0, 1.0, 1.0, 1.0],\n",
       "   'PANAS-Attentive': [4.0, 4.0, 3.0, 3.0, 2.0],\n",
       "   'PANAS-Determined': [4.0, 4.0, 2.0, 1.0, 1.0],\n",
       "   'PANAS-Distressed': [1.0, 2.0, 1.0, 1.0, 1.0],\n",
       "   'PANAS-Enthusiastic': [2.0, 3.0, 3.0, 2.0, 2.0],\n",
       "   'PANAS-Excited': [2.0, 4.0, 1.0, 1.0, 1.0],\n",
       "   'PANAS-Frustrated': [1.0, 3.0, 1.0, 2.0, 1.0],\n",
       "   'PANAS-Guilty': [1.0, 1.0, 1.0, 1.0, 1.0],\n",
       "   'PANAS-Happy': [2.0, 2.0, 4.0, 3.0, 3.0],\n",
       "   'PANAS-Hostile': [1.0, 1.0, 1.0, 1.0, 1.0],\n",
       "   'PANAS-Inspired': [2.0, 1.0, 3.0, 3.0, 2.0],\n",
       "   'PANAS-Interested': [3.0, 4.0, 2.0, 2.0, 1.0],\n",
       "   'PANAS-Irritable': [2.0, 4.0, 1.0, 1.0, 1.0],\n",
       "   'PANAS-Jittery': [2.0, 2.0, 1.0, 1.0, 1.0],\n",
       "   'PANAS-Nervous': [3.0, 4.0, 1.0, 1.0, 1.0],\n",
       "   'PANAS-Proud': [2.0, 2.0, 1.0, 1.0, 1.0],\n",
       "   'PANAS-Sad': [1.0, 1.0, 1.0, 1.0, 1.0],\n",
       "   'PANAS-Scared': [1.0, 2.0, 1.0, 1.0, 1.0],\n",
       "   'PANAS-Stressed': [2.0, 3.0, 1.0, 1.0, 1.0],\n",
       "   'PANAS-Strong': [3.0, 3.0, 2.0, 1.0, 1.0],\n",
       "   'STAI-I am jittery': [1.0, 2.0, 1.0, 1.0, 1.0],\n",
       "   'STAI-I am relaxed': [4.0, 1.0, 4.0, 3.0, 4.0],\n",
       "   'STAI-I am worried': [2.0, 3.0, 2.0, 1.0, 1.0],\n",
       "   'STAI-I feel at ease': [3.0, 1.0, 4.0, 3.0, 4.0],\n",
       "   'STAI-I feel nervous': [2.0, 3.0, 1.0, 1.0, 1.0],\n",
       "   'STAI-I feel pleasant': [3.0, 1.0, 4.0, 4.0, 4.0],\n",
       "   'Valence': [7.0, 5.0, 7.0, 8.0, 7.0]}},\n",
       " 's4': {'categoricalFeatures': ['right', 'male'],\n",
       "  'categoricalLabels': ['Dominant hand', 'Gender'],\n",
       "  'index': ['0', '1', '2', '3', '4'],\n",
       "  'metadata': {'id': 's4'},\n",
       "  'numericalFeatures': [25.0, 175.0, 90.0],\n",
       "  'numericalLabels': ['Age', 'Height (cm)', 'Weight (kg)'],\n",
       "  'temporalVariables': {'Arousal': [2.0, 7.0, 7.0, 1.0, 2.0],\n",
       "   'PANAS-Active': [1.0, 4.0, 1.0, 1.0, 1.0],\n",
       "   'PANAS-Afraid': [1.0, 1.0, 1.0, 1.0, 1.0],\n",
       "   'PANAS-Alert': [3.0, 4.0, 1.0, 3.0, 1.0],\n",
       "   'PANAS-Annoyed': [2.0, 1.0, 2.0, 1.0, 2.0],\n",
       "   'PANAS-Ashamed': [1.0, 1.0, 1.0, 1.0, 1.0],\n",
       "   'PANAS-Attentive': [2.0, 4.0, 2.0, 4.0, 1.0],\n",
       "   'PANAS-Determined': [1.0, 3.0, 1.0, 1.0, 1.0],\n",
       "   'PANAS-Distressed': [2.0, 2.0, 1.0, 1.0, 2.0],\n",
       "   'PANAS-Enthusiastic': [1.0, 1.0, 1.0, 3.0, 1.0],\n",
       "   'PANAS-Excited': [1.0, 2.0, 2.0, 3.0, 2.0],\n",
       "   'PANAS-Frustrated': [2.0, 3.0, 3.0, 1.0, 2.0],\n",
       "   'PANAS-Guilty': [1.0, 1.0, 1.0, 1.0, 1.0],\n",
       "   'PANAS-Happy': [2.0, 1.0, 2.0, 3.0, 3.0],\n",
       "   'PANAS-Hostile': [1.0, 1.0, 3.0, 1.0, 1.0],\n",
       "   'PANAS-Inspired': [2.0, 1.0, 1.0, 4.0, 2.0],\n",
       "   'PANAS-Interested': [3.0, 2.0, 1.0, 4.0, 1.0],\n",
       "   'PANAS-Irritable': [2.0, 1.0, 3.0, 1.0, 2.0],\n",
       "   'PANAS-Jittery': [1.0, 2.0, 1.0, 1.0, 1.0],\n",
       "   'PANAS-Nervous': [1.0, 4.0, 1.0, 1.0, 1.0],\n",
       "   'PANAS-Proud': [1.0, 1.0, 1.0, 1.0, 1.0],\n",
       "   'PANAS-Sad': [1.0, 1.0, 1.0, 1.0, 1.0],\n",
       "   'PANAS-Scared': [1.0, 1.0, 1.0, 1.0, 1.0],\n",
       "   'PANAS-Stressed': [1.0, 2.0, 1.0, 1.0, 2.0],\n",
       "   'PANAS-Strong': [1.0, 1.0, 1.0, 1.0, 1.0],\n",
       "   'STAI-I am jittery': [1.0, 2.0, 1.0, 1.0, 1.0],\n",
       "   'STAI-I am relaxed': [4.0, 2.0, 2.0, 4.0, 3.0],\n",
       "   'STAI-I am worried': [1.0, 1.0, 2.0, 1.0, 2.0],\n",
       "   'STAI-I feel at ease': [3.0, 1.0, 1.0, 3.0, 2.0],\n",
       "   'STAI-I feel nervous': [1.0, 3.0, 1.0, 1.0, 1.0],\n",
       "   'STAI-I feel pleasant': [2.0, 1.0, 1.0, 3.0, 1.0],\n",
       "   'Valence': [7.0, 5.0, 5.0, 8.0, 5.0]}},\n",
       " 's5': {'categoricalFeatures': ['right', 'male'],\n",
       "  'categoricalLabels': ['Dominant hand', 'Gender'],\n",
       "  'index': ['0', '1', '2', '3', '4'],\n",
       "  'metadata': {'id': 's5'},\n",
       "  'numericalFeatures': [35.0, 189.0, 80.0],\n",
       "  'numericalLabels': ['Age', 'Height (cm)', 'Weight (kg)'],\n",
       "  'temporalVariables': {'Arousal': [2.0, 8.0, 1.0, 2.0, 1.0],\n",
       "   'PANAS-Active': [1.0, 5.0, 1.0, 1.0, 1.0],\n",
       "   'PANAS-Afraid': [1.0, 1.0, 1.0, 1.0, 1.0],\n",
       "   'PANAS-Alert': [4.0, 5.0, 2.0, 3.0, 2.0],\n",
       "   'PANAS-Annoyed': [1.0, 2.0, 1.0, 1.0, 1.0],\n",
       "   'PANAS-Ashamed': [1.0, 1.0, 1.0, 1.0, 1.0],\n",
       "   'PANAS-Attentive': [4.0, 4.0, 3.0, 3.0, 2.0],\n",
       "   'PANAS-Determined': [4.0, 3.0, 3.0, 1.0, 2.0],\n",
       "   'PANAS-Distressed': [1.0, 1.0, 1.0, 1.0, 1.0],\n",
       "   'PANAS-Enthusiastic': [4.0, 1.0, 1.0, 1.0, 2.0],\n",
       "   'PANAS-Excited': [4.0, 5.0, 1.0, 3.0, 2.0],\n",
       "   'PANAS-Frustrated': [1.0, 1.0, 1.0, 1.0, 1.0],\n",
       "   'PANAS-Guilty': [1.0, 1.0, 1.0, 1.0, 1.0],\n",
       "   'PANAS-Happy': [3.0, 2.0, 4.0, 2.0, 4.0],\n",
       "   'PANAS-Hostile': [1.0, 1.0, 1.0, 1.0, 1.0],\n",
       "   'PANAS-Inspired': [3.0, 2.0, 1.0, 3.0, 2.0],\n",
       "   'PANAS-Interested': [4.0, 4.0, 3.0, 3.0, 3.0],\n",
       "   'PANAS-Irritable': [1.0, 1.0, 1.0, 1.0, 1.0],\n",
       "   'PANAS-Jittery': [1.0, 3.0, 1.0, 1.0, 1.0],\n",
       "   'PANAS-Nervous': [2.0, 4.0, 1.0, 1.0, 1.0],\n",
       "   'PANAS-Proud': [1.0, 1.0, 1.0, 1.0, 1.0],\n",
       "   'PANAS-Sad': [1.0, 1.0, 1.0, 1.0, 1.0],\n",
       "   'PANAS-Scared': [1.0, 2.0, 1.0, 1.0, 1.0],\n",
       "   'PANAS-Stressed': [2.0, 4.0, 1.0, 2.0, 1.0],\n",
       "   'PANAS-Strong': [3.0, 3.0, 3.0, 2.0, 2.0],\n",
       "   'STAI-I am jittery': [1.0, 2.0, 1.0, 2.0, 1.0],\n",
       "   'STAI-I am relaxed': [3.0, 1.0, 4.0, 2.0, 4.0],\n",
       "   'STAI-I am worried': [1.0, 2.0, 1.0, 1.0, 1.0],\n",
       "   'STAI-I feel at ease': [4.0, 1.0, 4.0, 3.0, 4.0],\n",
       "   'STAI-I feel nervous': [2.0, 3.0, 1.0, 1.0, 1.0],\n",
       "   'STAI-I feel pleasant': [2.0, 2.0, 2.0, 2.0, 2.0],\n",
       "   'Valence': [7.0, 5.0, 6.0, 6.0, 7.0]}}}"
      ]
     },
     "execution_count": 27,
     "metadata": {},
     "output_type": "execute_result"
    }
   ],
   "source": [
    "response = requests.post(url + \"/getMTSeries\",data = {'datasetId':dataset, 'begin': 0, 'end': 5, 'ids': json.dumps(['s4', 's2', 's5'])})\n",
    "json.loads(response.content)"
   ]
  },
  {
   "cell_type": "markdown",
   "id": "fresh-funeral",
   "metadata": {},
   "source": [
    "## Get projection\n"
   ]
  },
  {
   "cell_type": "code",
   "execution_count": 49,
   "id": "arbitrary-riverside",
   "metadata": {},
   "outputs": [],
   "source": [
    "alphas = {label: 1 for label in info[\"seriesLabels\"]}\n",
    "D_k = {}\n",
    "coords = {}"
   ]
  },
  {
   "cell_type": "code",
   "execution_count": 50,
   "id": "compliant-economy",
   "metadata": {},
   "outputs": [
    {
     "data": {
      "text/plain": [
       "{'1': [10.331422178159485, -7.822703821703016],\n",
       " '2': [9.149584635408338, 1.78141223125199],\n",
       " '3': [-10.179948481847532, -1.4284377541435411],\n",
       " '4': [-3.7285033656149005, -10.076584413672705],\n",
       " '5': [-7.418150277018119, 9.925811489772995],\n",
       " '6': [1.845595310912727, 7.620502268494276]}"
      ]
     },
     "execution_count": 50,
     "metadata": {},
     "output_type": "execute_result"
    }
   ],
   "source": [
    "\n",
    "response = requests.post(url + \"/getDatasetProjection\",data = {'datasetId':dataset, 'alphas': json.dumps(alphas), 'begin': 0, 'end':40, \n",
    "                                                               'D_k': json.dumps(D_k), 'oldCoords': json.dumps(coords)})\n",
    "data = json.loads(response.content)\n",
    "coords = data[\"coords\"]\n",
    "D_k = data[\"D_k\"]\n",
    "coords"
   ]
  },
  {
   "cell_type": "markdown",
   "id": "pediatric-mediterranean",
   "metadata": {},
   "source": [
    "## Clustering"
   ]
  },
  {
   "cell_type": "code",
   "execution_count": 38,
   "id": "featured-middle",
   "metadata": {},
   "outputs": [
    {
     "data": {
      "text/plain": [
       "{'0': ['1', '2', '4', '5'], '1': ['3', '6']}"
      ]
     },
     "execution_count": 38,
     "metadata": {},
     "output_type": "execute_result"
    }
   ],
   "source": [
    "response = requests.post(url + \"/doClustering\",data = {'datasetId':dataset, 'coords': json.dumps(coords), 'k': 2})\n",
    "clusters = json.loads(response.content)\n",
    "clusters"
   ]
  },
  {
   "cell_type": "markdown",
   "id": "billion-cloud",
   "metadata": {},
   "source": [
    "## Rankings"
   ]
  },
  {
   "cell_type": "code",
   "execution_count": 39,
   "id": "common-investment",
   "metadata": {},
   "outputs": [
    {
     "data": {
      "text/plain": [
       "{'Arousal': 0.051812307045928346, 'Valence': 3.415525686489257}"
      ]
     },
     "execution_count": 39,
     "metadata": {},
     "output_type": "execute_result"
    }
   ],
   "source": [
    "response = requests.post(url + \"/getFishersDiscriminantRanking\",data = {'datasetId':dataset, 'D_k': json.dumps(D_k), 'blueCluster': json.dumps(clusters['0']), 'redCluster': json.dumps(clusters['1']) })\n",
    "j_s = json.loads(response.content)\n",
    "j_s"
   ]
  },
  {
   "cell_type": "markdown",
   "id": "juvenile-shannon",
   "metadata": {},
   "source": [
    "## Temporal summary"
   ]
  },
  {
   "cell_type": "code",
   "execution_count": 32,
   "id": "basic-married",
   "metadata": {},
   "outputs": [],
   "source": [
    "response = requests.post(url + \"/getTemporalSummary\",data = {'datasetId':dataset})\n",
    "# json.loads(response.content)[\"mean\"]\n"
   ]
  },
  {
   "cell_type": "markdown",
   "id": "acceptable-series",
   "metadata": {},
   "source": [
    "## Downsample"
   ]
  },
  {
   "cell_type": "code",
   "execution_count": 36,
   "id": "extensive-throat",
   "metadata": {},
   "outputs": [
    {
     "data": {
      "text/plain": [
       "{'state': 'success'}"
      ]
     },
     "execution_count": 36,
     "metadata": {},
     "output_type": "execute_result"
    }
   ],
   "source": [
    "response = requests.post(url + \"/downsampleData\",data = {'datasetId':dataset, 'rule': 'T'})\n",
    "json.loads(response.content)"
   ]
  },
  {
   "cell_type": "markdown",
   "id": "biological-temperature",
   "metadata": {},
   "source": [
    "## Reset dataset"
   ]
  },
  {
   "cell_type": "code",
   "execution_count": 68,
   "id": "white-livestock",
   "metadata": {},
   "outputs": [
    {
     "data": {
      "text/plain": [
       "{'state': 'success'}"
      ]
     },
     "execution_count": 68,
     "metadata": {},
     "output_type": "execute_result"
    }
   ],
   "source": [
    "response = requests.post(url + \"/resetDataset\",data = {'datasetId':dataset})\n",
    "json.loads(response.content)"
   ]
  },
  {
   "cell_type": "code",
   "execution_count": null,
   "id": "unsigned-singles",
   "metadata": {},
   "outputs": [],
   "source": []
  }
 ],
 "metadata": {
  "kernelspec": {
   "display_name": "Python 3",
   "language": "python",
   "name": "python3"
  },
  "language_info": {
   "codemirror_mode": {
    "name": "ipython",
    "version": 3
   },
   "file_extension": ".py",
   "mimetype": "text/x-python",
   "name": "python",
   "nbconvert_exporter": "python",
   "pygments_lexer": "ipython3",
   "version": "3.9.2"
  }
 },
 "nbformat": 4,
 "nbformat_minor": 5
}
