{
 "cells": [
  {
   "cell_type": "code",
   "execution_count": 82,
   "metadata": {},
   "outputs": [],
   "source": [
    "from mts.core.mtserie_dataset import MTSerieDataset\n",
    "from mts.core.projections import ProjectionAlg\n",
    "from models.emotion_dataset_controller import *\n",
    "import matplotlib.pyplot as plt\n",
    "from mts.core.projections import ProjectionAlg, euclidean_distance_matrix, mds_projection, compute_k_distance_matrixes, compute_distance_matrix\n",
    "import tensorflow as tf\n",
    "import numpy as np\n",
    "from keras.models import Sequential\n",
    "from keras.layers import LSTM\n",
    "from keras.layers import Dense\n",
    "from keras.layers import RepeatVector\n",
    "from keras.layers import TimeDistributed\n",
    "\n",
    "\n",
    "config = tf.ConfigProto()\n",
    "config.gpu_options.per_process_gpu_memory_fraction = 0.9\n",
    "config.gpu_options.allow_growth = True\n",
    "tf.keras.backend.set_session(tf.Session(config=config));\n",
    "\n",
    "\n",
    "import sys\n",
    "sys.path.insert(1, '/home/texs/Documents/AirQuality/repositories/peax/experiments')\n"
   ]
  },
  {
   "cell_type": "code",
   "execution_count": 83,
   "metadata": {},
   "outputs": [],
   "source": [
    "controller = AppController()"
   ]
  },
  {
   "cell_type": "code",
   "execution_count": 84,
   "metadata": {},
   "outputs": [
    {
     "data": {
      "text/plain": [
       "True"
      ]
     },
     "execution_count": 84,
     "metadata": {},
     "output_type": "execute_result"
    }
   ],
   "source": [
    "# dataset_id = 'emotions_in_music'\n",
    "# dataset_id = 'afew_va'\n",
    "# dataset_id = 'aff-wild-categorical'\n",
    "# dataset_id = \"aff-wild-dimensional\"\n",
    "# dataset_id = \"ascertain\"\n",
    "dataset_id = \"drivers_stress\"\n",
    "controller.loadLocalDataset(dataset_id)"
   ]
  },
  {
   "cell_type": "code",
   "execution_count": 85,
   "metadata": {},
   "outputs": [
    {
     "name": "stdout",
     "output_type": "stream",
     "text": [
      "(13, 11103, 1)\n",
      "0.98516\n",
      "0.0\n"
     ]
    }
   ],
   "source": [
    "\n",
    "dataset = controller.datasets[dataset_id]\n",
    "X = dataset.values()\n",
    "\n",
    "print(X.shape)\n",
    "print(X.max())\n",
    "print(X.min())"
   ]
  },
  {
   "cell_type": "code",
   "execution_count": 86,
   "metadata": {},
   "outputs": [],
   "source": [
    "from sklearn.preprocessing import MinMaxScaler\n",
    "import numpy as np\n",
    "\n",
    "# class MinMaxScaler3D(MinMaxScaler):\n",
    "\n",
    "#     def fit_transform(self, X, y=None):\n",
    "#         x = np.reshape(X, newshape=(X.shape[0]*X.shape[1], X.shape[2]))\n",
    "#         return np.reshape(super().fit_transform(x, y=y), newshape=X.shape)\n",
    "\n",
    "# scaler = MinMaxScaler3D()\n",
    "# X = scaler.fit_transform(X)\n",
    "# print(X.shape)\n",
    "# print(X.max())\n",
    "# print(X.min())"
   ]
  },
  {
   "cell_type": "code",
   "execution_count": 87,
   "metadata": {},
   "outputs": [
    {
     "name": "stdout",
     "output_type": "stream",
     "text": [
      "(13, 11103, 1)\n"
     ]
    }
   ],
   "source": [
    "from sklearn.preprocessing import MinMaxScaler\n",
    "\n",
    "def normalizeWindow(data, percentile: float = 99.9):\n",
    "    cutoff = np.percentile(data, (0, percentile))\n",
    "    data_norm = np.copy(data)\n",
    "    data_norm[np.where(data_norm < cutoff[0])] = cutoff[0]\n",
    "    data_norm[np.where(data_norm > cutoff[1])] = cutoff[1]\n",
    "\n",
    "    return MinMaxScaler().fit_transform(data_norm)\n",
    "\n",
    "# X = dataset.values()\n",
    "# X = np.array([  normalizeWindow(np.concatenate([x, np.zeros([1, 2])]) )    for x in X])\n",
    "# X = np.array([(np.concatenate([x, np.zeros([1, 2])]) )    for x in X])\n",
    "\n",
    "\n",
    "N, T, D =X.shape\n",
    "# allWindows = np.split(X, 2, axis = 2)\n",
    "# windows1 = allWindows[0]\n",
    "# print(windows1.shape)\n",
    "# print(windows2.shape)\n",
    "print(X.shape)"
   ]
  },
  {
   "cell_type": "code",
   "execution_count": 88,
   "metadata": {},
   "outputs": [],
   "source": [
    "timesteps = X.shape[1]\n",
    "n_features = X.shape[2]\n",
    "# print(np.argwhere(np.isnan(X)))\n",
    "# print(timesteps)"
   ]
  },
  {
   "cell_type": "code",
   "execution_count": 89,
   "metadata": {},
   "outputs": [
    {
     "name": "stdout",
     "output_type": "stream",
     "text": [
      "Model: \"sequential_5\"\n",
      "_________________________________________________________________\n",
      "Layer (type)                 Output Shape              Param #   \n",
      "=================================================================\n",
      "lstm_13 (LSTM)               (None, 11103, 128)        66560     \n",
      "_________________________________________________________________\n",
      "lstm_14 (LSTM)               (None, 64)                49408     \n",
      "_________________________________________________________________\n",
      "repeat_vector_3 (RepeatVecto (None, 11103, 64)         0         \n",
      "_________________________________________________________________\n",
      "lstm_15 (LSTM)               (None, 11103, 64)         33024     \n",
      "_________________________________________________________________\n",
      "lstm_16 (LSTM)               (None, 11103, 128)        98816     \n",
      "_________________________________________________________________\n",
      "time_distributed_3 (TimeDist (None, 11103, 1)          129       \n",
      "=================================================================\n",
      "Total params: 247,937\n",
      "Trainable params: 247,937\n",
      "Non-trainable params: 0\n",
      "_________________________________________________________________\n"
     ]
    }
   ],
   "source": [
    "# define model\n",
    "from keras import Model\n",
    "\n",
    "# encodeLayer = LSTM(64, activation='relu', return_sequences=False)\n",
    "# model = Sequential()\n",
    "# model.add(LSTM(256, activation='relu', input_shape=(timesteps,n_features), return_sequences=True))\n",
    "# model.add(LSTM(128, activation='relu', return_sequences=False))\n",
    "# # model.add(encodeLayer)\n",
    "# model.add(RepeatVector(timesteps))\n",
    "# model.add(LSTM(128, activation='relu', return_sequences=True))\n",
    "# model.add(LSTM(256, activation='relu', return_sequences=True))\n",
    "# model.add(TimeDistributed(Dense(n_features)))\n",
    "# model.compile(optimizer='adam', loss='mse')\n",
    "# model.summary()\n",
    "\n",
    "model = Sequential()\n",
    "model.add(LSTM(128, activation='relu', input_shape=(timesteps,n_features), return_sequences=True))\n",
    "model.add(LSTM(64, activation='relu', return_sequences=False))\n",
    "model.add(RepeatVector(timesteps))\n",
    "model.add(LSTM(64, activation='relu', return_sequences=True))\n",
    "model.add(LSTM(128, activation='relu', return_sequences=True))\n",
    "model.add(TimeDistributed(Dense(n_features)))\n",
    "model.compile(optimizer='adam', loss='mse')\n",
    "model.summary()"
   ]
  },
  {
   "cell_type": "code",
   "execution_count": null,
   "metadata": {},
   "outputs": [
    {
     "name": "stdout",
     "output_type": "stream",
     "text": [
      "Epoch 1/10\n",
      "13/13 [==============================] - 29s 2s/step - loss: 0.4909\n",
      "Epoch 2/10\n",
      "13/13 [==============================] - 28s 2s/step - loss: 0.4751\n",
      "Epoch 3/10\n",
      "13/13 [==============================] - 28s 2s/step - loss: 0.4606\n",
      "Epoch 4/10\n",
      "13/13 [==============================] - 27s 2s/step - loss: 0.4430\n",
      "Epoch 5/10\n",
      "13/13 [==============================] - 27s 2s/step - loss: 0.4220\n",
      "Epoch 6/10\n",
      "13/13 [==============================] - 27s 2s/step - loss: 0.3949\n",
      "Epoch 7/10\n",
      "13/13 [==============================] - 27s 2s/step - loss: 0.3608\n",
      "Epoch 8/10\n",
      "13/13 [==============================] - 27s 2s/step - loss: 0.3177\n",
      "Epoch 9/10\n",
      "13/13 [==============================] - 27s 2s/step - loss: 0.2642\n",
      "Epoch 10/10\n"
     ]
    }
   ],
   "source": [
    "model.fit(X, X, epochs=10, batch_size=50, verbose=1)\n",
    "# demonstrate reconstruction\n",
    "# yhat = model.predict(X, verbose=0)\n",
    "# print('---Predicted---')\n",
    "# print(np.round(yhat,3))\n",
    "# print('---Actual---')\n",
    "# print(np.round(X, 3))"
   ]
  },
  {
   "cell_type": "code",
   "execution_count": null,
   "metadata": {},
   "outputs": [],
   "source": [
    "import matplotlib.pyplot as plt\n",
    "\n",
    "index = 43\n",
    "x1 = model.predict(np.array([X[index]]))[0]\n",
    "y1 = X[index]\n",
    "\n",
    "\n",
    "plt.plot(x1)\n",
    "\n",
    "plt.show()"
   ]
  },
  {
   "cell_type": "code",
   "execution_count": null,
   "metadata": {},
   "outputs": [],
   "source": [
    "plt.plot(y1)\n",
    "\n",
    "plt.show()"
   ]
  },
  {
   "cell_type": "code",
   "execution_count": null,
   "metadata": {},
   "outputs": [],
   "source": [
    "# encoder = Model(input=[model.layers[0]], output=[model.layers[2]])\n",
    "inter_output_model = Model(model.input, model.get_layer(index = 1).output )\n",
    "# inter_output_model.predict(np.array([X[10]])).shape\n",
    "Y = inter_output_model.predict(X)\n"
   ]
  },
  {
   "cell_type": "code",
   "execution_count": null,
   "metadata": {},
   "outputs": [],
   "source": [
    "# from sklearn.manifold import MDS\n",
    "\n",
    "# print(Y.shape)\n",
    "# mds = MDS(n_components=2)\n",
    "# coords = mds.fit_transform(Y)\n",
    "\n"
   ]
  },
  {
   "cell_type": "code",
   "execution_count": null,
   "metadata": {},
   "outputs": [],
   "source": [
    "import umap\n",
    "\n",
    "reducer = umap.UMAP()\n",
    "coords = reducer.fit_transform(Y)"
   ]
  },
  {
   "cell_type": "code",
   "execution_count": null,
   "metadata": {},
   "outputs": [],
   "source": [
    "print(coords.shape)\n",
    "\n",
    "plt.scatter(\n",
    "    coords[:, 0], coords[:, 1], marker = 'o'\n",
    ")\n"
   ]
  },
  {
   "cell_type": "code",
   "execution_count": null,
   "metadata": {},
   "outputs": [],
   "source": []
  },
  {
   "cell_type": "code",
   "execution_count": null,
   "metadata": {},
   "outputs": [],
   "source": []
  },
  {
   "cell_type": "code",
   "execution_count": null,
   "metadata": {},
   "outputs": [],
   "source": []
  },
  {
   "cell_type": "code",
   "execution_count": null,
   "metadata": {},
   "outputs": [],
   "source": []
  },
  {
   "cell_type": "code",
   "execution_count": null,
   "metadata": {},
   "outputs": [],
   "source": []
  },
  {
   "cell_type": "code",
   "execution_count": null,
   "metadata": {},
   "outputs": [],
   "source": []
  },
  {
   "cell_type": "code",
   "execution_count": null,
   "metadata": {},
   "outputs": [],
   "source": []
  },
  {
   "cell_type": "code",
   "execution_count": null,
   "metadata": {},
   "outputs": [],
   "source": []
  },
  {
   "cell_type": "code",
   "execution_count": null,
   "metadata": {},
   "outputs": [],
   "source": []
  },
  {
   "cell_type": "code",
   "execution_count": null,
   "metadata": {},
   "outputs": [],
   "source": []
  },
  {
   "cell_type": "code",
   "execution_count": null,
   "metadata": {},
   "outputs": [],
   "source": []
  },
  {
   "cell_type": "code",
   "execution_count": null,
   "metadata": {},
   "outputs": [],
   "source": []
  },
  {
   "cell_type": "code",
   "execution_count": null,
   "metadata": {},
   "outputs": [],
   "source": []
  },
  {
   "cell_type": "code",
   "execution_count": null,
   "metadata": {},
   "outputs": [],
   "source": []
  },
  {
   "cell_type": "code",
   "execution_count": null,
   "metadata": {},
   "outputs": [],
   "source": []
  },
  {
   "cell_type": "code",
   "execution_count": null,
   "metadata": {},
   "outputs": [],
   "source": []
  },
  {
   "cell_type": "code",
   "execution_count": null,
   "metadata": {},
   "outputs": [],
   "source": []
  },
  {
   "cell_type": "code",
   "execution_count": null,
   "metadata": {},
   "outputs": [],
   "source": []
  },
  {
   "cell_type": "code",
   "execution_count": null,
   "metadata": {},
   "outputs": [],
   "source": []
  },
  {
   "cell_type": "code",
   "execution_count": null,
   "metadata": {},
   "outputs": [],
   "source": []
  },
  {
   "cell_type": "code",
   "execution_count": null,
   "metadata": {},
   "outputs": [],
   "source": []
  }
 ],
 "metadata": {
  "kernelspec": {
   "display_name": "Python 3",
   "language": "python",
   "name": "python3"
  },
  "language_info": {
   "codemirror_mode": {
    "name": "ipython",
    "version": 3
   },
   "file_extension": ".py",
   "mimetype": "text/x-python",
   "name": "python",
   "nbconvert_exporter": "python",
   "pygments_lexer": "ipython3",
   "version": "3.8.5"
  }
 },
 "nbformat": 4,
 "nbformat_minor": 5
}
